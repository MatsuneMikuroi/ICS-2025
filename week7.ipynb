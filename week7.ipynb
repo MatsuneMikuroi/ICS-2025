{
 "cells": [
  {
   "cell_type": "markdown",
   "metadata": {
    "deletable": false,
    "editable": false,
    "run_control": {
     "frozen": true
    }
   },
   "source": [
    "\n",
    "# ICS - Travaux Pratiques 7\n",
    "\n",
    "09.04.25\n",
    "\n",
    "\n",
    "<font color=grey>_Le but de ce 7e TP est de se familiariser avec les librairies `NumPy` et `Matplotlib`. A la fin de ce TP, vous devrez être capables d'effectuer des opérations de base sur des `ndarray`, et de produire un graphe à partir de données sous forme de listes ou de `ndarray`._\n",
    "\n",
    "_Dans la suite de votre carrière de scientifique, vous serez certainement amené.e.s à travailler avec ces librairies de manière régulière. N'hésitez donc pas à sortir du cadre de cette série, et à personnaliser vos graphes!_\n",
    "\n",
    "_Note : ne vous sentez pas obligé.e.s de finir la série pendant la séance! Celle-ci est conçue de manière à ce que vous gardiez certains exercices pour vos révisions._ </font>"
   ]
  },
  {
   "cell_type": "markdown",
   "metadata": {},
   "source": [
    "Avant toute chose, nous allons commencer par importer le paquet `numpy` et l'appeler `np`. Nous importons également la partie du paquet `matplotlib` destinée aux représentations graphiques (`matplotlib.pyplot`). Cette partie va être rebaptisée `plt`."
   ]
  },
  {
   "cell_type": "code",
   "execution_count": 2,
   "metadata": {
    "deletable": false,
    "run_control": {
     "frozen": true
    }
   },
   "outputs": [],
   "source": [
    "import numpy as np\n",
    "import matplotlib.pyplot as plt"
   ]
  },
  {
   "cell_type": "markdown",
   "metadata": {},
   "source": [
    "***"
   ]
  },
  {
   "cell_type": "markdown",
   "metadata": {
    "deletable": false,
    "editable": false,
    "run_control": {
     "frozen": true
    }
   },
   "source": [
    "## Exercice 1 : Listes, tuples et tableaux"
   ]
  },
  {
   "cell_type": "markdown",
   "metadata": {},
   "source": [
    "Parmi les types **séquentiels ordonnés** que vous avez déjà rencontrés, les **listes** et les **tuples** sont particulièrement importants dans le calcul scientifique. L'exercice suivant permet de rappeler quelques propriétés de ces objets *containers* et les met en perspective avec l'objet **tableau** (`ndarray`) de `numpy`.\n",
    "\n",
    "Les trois cellules ci-dessous contiennent du code Python. Il vous est demandé :\n",
    "-\tde préciser **d'abord** (sans exécuter les cellules) les résultats qui seront obtenus suite à l'exécution de ces cellules ;\n",
    "-\tde vérifier **ensuite** vos réponses en exécutant les cellules ;\n",
    "-\tde comprendre **finalement** les causes d'éventuelles différences entre ce que vous pensiez et ce qui s'est passé à l'exécution.\n",
    "\n",
    "Certaines instructions produisent des **erreurs** et vous êtes invités à comprendre leurs causes, à **corriger** ou à **commenter** les fautes et à réexécuter les cellules correspondantes."
   ]
  },
  {
   "cell_type": "code",
   "execution_count": null,
   "metadata": {},
   "outputs": [],
   "source": [
    "# objet container liste\n",
    "une_liste = [3.14,'jupyter, saturne', np.shape] # une liste n'est pas forcément homogène\n",
    "print(une_liste, type(une_liste))\n",
    "# print affiche en particulier <function shape at 0x10a67c700> (où le dernier terme sera \n",
    "# probablement différent chez vous), ce qui signifie que l'objet (ici la fonction shape) \n",
    "# se trouve en mémoire à l'adresse hexadécimale (base 16) 0x10a67c700.\n",
    "# Cette adresse est celle retournée par la fonction id().\n",
    "# print(id(une_liste[2]))    # La fonction id() retourne l'adresse en base 10.\n",
    "# print(str(int('0x10a67c700', 16)))  # Vérification : conversion en base 10\n",
    "une_liste[0] = np.pi  # une liste est un objet modifiable (mutable)\n",
    "#print(une_liste[0,1]) # cette notation est incorrecte\n",
    "print(une_liste[0:2]) # l'élément d'indice 2 n'est pas affiché\n",
    "print(une_liste+[1,2,np.ones(4),4])\n",
    "#print(une_liste+(1,2,np.ones(4),4)) # on ne peut concaténer que des objets de même nature\n",
    "print(5*une_liste)\n",
    "#print(une_liste/5)  # l'opération / n'a pas de sens pour une liste"
   ]
  },
  {
   "cell_type": "code",
   "execution_count": null,
   "metadata": {},
   "outputs": [],
   "source": [
    "# objet container tuple\n",
    "un_tuple = (5, 7, 'ciel bleu') # un tuple n'est pas forcément homogène\n",
    "print(un_tuple, type(un_tuple))\n",
    "#un_tuple[0] = np.pi  # erreur : un tuple n'est pas modifiable (immutable)\n",
    "#print(un_tuple[0,1]) # cette notation est incorrecte\n",
    "print(un_tuple[0:2]) # l'élément d'indice 2 n'est pas affiché\n",
    "#print(un_tuple+[1,2,np.ones(4),4]) # on ne peut concaténer que des objets de même nature\n",
    "print(un_tuple+(1,2,np.ones(4),4))\n",
    "print(5*un_tuple)\n",
    "#print(un_tuple/5) # l'opération / n'a pas de sens pour un tuple"
   ]
  },
  {
   "cell_type": "code",
   "execution_count": null,
   "metadata": {},
   "outputs": [],
   "source": [
    "# objet container ndarray\n",
    "un_array = np.array([4,2,-1,7])\n",
    "print(un_array, type(un_array))\n",
    "un_array[0] = np.pi \n",
    "#print(un_array[0,1]) # le tableau est unidimensionnel\n",
    "print(un_array[0:2]) # l'élément d'indice 2 n'est pas affiché; on note que np.pi a été remplacé par 3 (i.e. par un entier)\n",
    "print(type(un_array[0])) # attention au type des éléments (défini à l'initialisation du tableau)\n",
    "print(un_array[-1::-1]) # le second -1 représente ici le pas (step) ; commande équivalente : print(un_array[::-1])\n",
    "print(5*un_array) \n",
    "print(un_array/5)\n",
    "print(np.ndim(un_array))\n",
    "print(une_liste[2](un_array)) # fournit la forme (shape) de un_array\n",
    "print(len(un_array))"
   ]
  },
  {
   "cell_type": "markdown",
   "metadata": {},
   "source": [
    "***"
   ]
  },
  {
   "cell_type": "markdown",
   "metadata": {
    "deletable": false,
    "editable": false,
    "run_control": {
     "frozen": true
    }
   },
   "source": [
    "## Exercice 2 : Tableaux unidimensionnels"
   ]
  },
  {
   "cell_type": "markdown",
   "metadata": {},
   "source": [
    "Dans cet exercice, il vous est demandé :\n",
    "- de créer un tableau (appelé `ndarray` dans le cours) unidimensionnel  `y` de longueur $20$ dont les éléments sont non initialisés ;\n",
    "- de fixer la valeur des quatre premiers éléments à $100$ ;\n",
    "- de faire en sorte que les six éléments suivants possèdent des valeurs régulièrement espacées entre $95$ et $0$ ;\n",
    "- d'attribuer aux 10 éléments suivants les valeurs que prennent les éléments de l'ensemble {$0$,$1$,$\\dots$,$9$} lorsqu'ils sont élevés au carré.\n",
    "\n",
    "Représentez le tableau (avec les valeurs du tableau `y` en ordonnée et les indices du tableau en abscisse $x$). Dessinez en vert des lignes brisées verticales aux points $x=3$, $x=4$, $x=9$ et $x=10$."
   ]
  },
  {
   "cell_type": "code",
   "execution_count": null,
   "metadata": {},
   "outputs": [],
   "source": [
    "# Réponse au point a)\n"
   ]
  },
  {
   "cell_type": "code",
   "execution_count": null,
   "metadata": {},
   "outputs": [],
   "source": [
    "# Réponse au point b)\n"
   ]
  },
  {
   "cell_type": "code",
   "execution_count": null,
   "metadata": {},
   "outputs": [],
   "source": [
    "# Réponse au point c)\n"
   ]
  },
  {
   "cell_type": "code",
   "execution_count": null,
   "metadata": {},
   "outputs": [],
   "source": [
    "# Réponse au point d)\n"
   ]
  },
  {
   "cell_type": "code",
   "execution_count": null,
   "metadata": {},
   "outputs": [],
   "source": [
    "# Réponse au point e)\n"
   ]
  },
  {
   "cell_type": "markdown",
   "metadata": {},
   "source": [
    "***"
   ]
  },
  {
   "cell_type": "markdown",
   "metadata": {
    "deletable": false,
    "editable": false,
    "run_control": {
     "frozen": true
    }
   },
   "source": [
    "## Exercice 3 : tableaux unidimensionnels\n"
   ]
  },
  {
   "cell_type": "markdown",
   "metadata": {},
   "source": [
    "Ecrivez une fonction `produit_vectoriel` qui admet deux \"vecteurs\" (deux tableaux unidimensionnels) en argument et qui retourne le produit vectoriel de ces deux vecteurs.<br>\n",
    "Utilisez votre fonction pour déterminer le produit vectoriel `c` des \"vecteurs\" `a=[2,3,1]` et `b=[-1,2,4]`. <br>\n",
    "Vérifiez votre résultat de deux manières :\n",
    "* à l'aide de la fonction `np.cross` (utiliser l'aide de Python si nécessaire) ;\n",
    "* en calculant explicitement le produit scalaire entre `a` et`c` et entre `b` et `c`. "
   ]
  },
  {
   "cell_type": "markdown",
   "metadata": {
    "deletable": false,
    "editable": false,
    "run_control": {
     "frozen": true
    }
   },
   "source": [
    "### <font color=grey>Remarque sur le produit vectoriel \n",
    "Le produit vectoriel est une opération vectorielle bien définie **dans un espace de dimension 3**.<br>\n",
    "Le produit vectoriel de deux vecteurs $\\vec x=(x_1,x_2,x_3)$ et $\\vec y=(y_1,y_2,y_3)$ est le vecteur $\\vec z=(z_1,z_2,z_3)$ tel que :\n",
    "- le vecteur $\\vec z$ est **orthogonal** aux deux vecteurs $\\vec x$ et $\\vec y$ ;\n",
    "- la norme de $\\vec z$ est égale à $||\\vec z||=||\\vec x||||\\vec y||\\sin(\\alpha)$, où $\\alpha$ est le plus petit angle déterminé par $\\vec x$ et $\\vec y$ ;\n",
    "- la direction de $\\vec z$ est donnée, à partir de $\\vec x$ et de $\\vec y$, par la règle de la main droite ou par la règle du tire-bouchon.\n",
    "\n",
    "On peut montrer que les composantes du vecteur $\\vec z$ sont données par \n",
    "$$\n",
    "\\vec z = \\begin{pmatrix}\n",
    "x_2 y_3 - x_3 y_2\\\\\n",
    " x_3 y_1 - x_1 y_3\\\\        \n",
    "x_1 y_2 - x_2 y_1\n",
    "\\end{pmatrix}\\,.\n",
    "$$\n",
    "\n",
    "Ainsi, pour les deux vecteurs proposés, $\\vec a=(2,3,1)$ et $\\vec b=(-1,2,4)$, on obtient le vecteur $\\vec c= \\vec a\\times \\vec b= (10,-9,7)$. Nous verrons plus loin que `matplotlib` permet de représenter de tels vecteurs en trois dimensions :\n",
    "\n",
    "<img src=\"produit_vectoriel.png\" align=\"center\"/></font>"
   ]
  },
  {
   "cell_type": "code",
   "execution_count": null,
   "metadata": {},
   "outputs": [],
   "source": [
    "# Votre réponse ici"
   ]
  },
  {
   "cell_type": "markdown",
   "metadata": {},
   "source": [
    "***"
   ]
  },
  {
   "cell_type": "markdown",
   "metadata": {},
   "source": [
    "## Exercice 4 : importation de données"
   ]
  },
  {
   "cell_type": "markdown",
   "metadata": {},
   "source": [
    "Le fichier texte `horaire.txt` contient les données mesurées correspondant à l'équation horaire d'un objet, à savoir la position de l'objet (en 1D) par rapport à l'origine en fonction du temps, ainsi qu'un en-tête qui s'étale sur les cinq premières lignes.\n",
    "\n",
    "<font color=grey>Note : quand on travaille avec des fichiers de données, il est conseillé de commencer par ouvrir ce fichier avec un éditeur de texte pour prendre connaissance de sa structure.</font>\n",
    "- Importez les données du fichier dans deux tableaux : `x` pour la position et `t` pour le temps\n",
    "- Représentez graphiquement les données mesurées $x(t)$\n",
    "- Calculez la vitesse de l'objet en fonction du temps et représentez graphiquement cette quantité dans une nouvelle fenêtre. Attention, quelle sera la taille du tableau `vitesse` par rapport au tableau `position`?\n",
    "- Calculez l'accélération de l'objet en fonction du temps et représentez graphiquement cette quantité dans une nouvelle fenêtre.\n",
    "\n",
    "<font color=grey> Rappel :$$v(t) = \\frac{dx(t)}{dt}\\sim \\frac{\\Delta x(t)}{\\Delta t} = \\frac{x(t+\\Delta t) - x(t)}{\\Delta t}$$ et $$a(t) = \\frac{dv(t)}{dt}\\sim \\frac{\\Delta v(t)}{\\Delta t}= \\frac{v(t+\\Delta t) - v(t)}{\\Delta t}$$ pour petits $\\Delta t$."
   ]
  },
  {
   "cell_type": "code",
   "execution_count": 11,
   "metadata": {},
   "outputs": [],
   "source": [
    "# Réponse au point a)\n"
   ]
  },
  {
   "cell_type": "code",
   "execution_count": null,
   "metadata": {},
   "outputs": [],
   "source": [
    "# Réponse au point b)\n"
   ]
  },
  {
   "cell_type": "code",
   "execution_count": null,
   "metadata": {},
   "outputs": [],
   "source": [
    "# Réponse au point c)\n"
   ]
  },
  {
   "cell_type": "code",
   "execution_count": null,
   "metadata": {},
   "outputs": [],
   "source": [
    "# Réponse au point d)\n"
   ]
  },
  {
   "cell_type": "markdown",
   "metadata": {},
   "source": [
    "***"
   ]
  },
  {
   "cell_type": "markdown",
   "metadata": {
    "deletable": false,
    "editable": false,
    "run_control": {
     "frozen": true
    }
   },
   "source": [
    "## Exercice 5 : tableaux bidimensionnels"
   ]
  },
  {
   "cell_type": "markdown",
   "metadata": {},
   "source": [
    "Soit le tableau défini par `m = np.array([[5,2,1,0],[-2,3,9,2],[3,1,4,-2],[6,1,3,3]])`. <br>\n",
    "Donnez les instructions permettant d'afficher :\n",
    "- le tableau `m`, la dimension et la forme de `m` ;\n",
    "- la troisième ligne de `m` ;\n",
    "- la deuxième colonne de `m` ;\n",
    "- le troisième élément de la deuxième ligne de `m` ;\n",
    "- les éléments de la sous-matrice 2x2 de `m` qui se trouve dans le coin en bas à droite."
   ]
  },
  {
   "cell_type": "code",
   "execution_count": null,
   "metadata": {},
   "outputs": [],
   "source": [
    "# Réponse au point a)\n",
    "\n"
   ]
  },
  {
   "cell_type": "code",
   "execution_count": null,
   "metadata": {},
   "outputs": [],
   "source": [
    "# Réponse au point b)\n",
    "\n"
   ]
  },
  {
   "cell_type": "code",
   "execution_count": null,
   "metadata": {},
   "outputs": [],
   "source": [
    "# Réponse au point c)\n",
    "\n"
   ]
  },
  {
   "cell_type": "code",
   "execution_count": null,
   "metadata": {},
   "outputs": [],
   "source": [
    "# Réponse au point d)\n"
   ]
  },
  {
   "cell_type": "code",
   "execution_count": null,
   "metadata": {},
   "outputs": [],
   "source": [
    "# Réponse au point e)\n"
   ]
  },
  {
   "cell_type": "markdown",
   "metadata": {},
   "source": [
    "***"
   ]
  },
  {
   "cell_type": "markdown",
   "metadata": {
    "deletable": false,
    "editable": false,
    "run_control": {
     "frozen": true
    }
   },
   "source": [
    "## Exercice 6 (facultatif)"
   ]
  },
  {
   "cell_type": "markdown",
   "metadata": {},
   "source": [
    "Dans cet exercice, nous allons revenir sur la multiplication de deux matrices.<br>\n",
    "L'objectif est de construire une fonction `produit_matriciel` permettant de calculer le produit matriciel de deux matrices quelconques `a` et `b`. Cette fonction devra :\n",
    "* admettre comme paramètres les matrices `a` et `b` (qui sont des tableaux `np.array`) ;\n",
    "* vérifier que les tailles des matrices `a` et `b` sont compatibles avec un produit matriciel ;\n",
    "* utiliser les possibilités offertes par les tableaux (méthode `shape`, indexation, etc.).\n",
    "\n",
    "Appliquez ensuite votre code dans un cas concret, en multipliant par exemple matriciellement les tableaux \n",
    "<br>\n",
    "`m = np.array([[5,2,1,0],[-2,3,9,2],[3,1,4,-2],[6,1,3,3]])` et `n = np.array([[2,4,-1],[15,2,5],[1,1,4],[7,10,-2]])`.\n",
    "<br>\n",
    "Vérifiez votre travail en utilisant la fonction `dot` de `numpy`."
   ]
  },
  {
   "cell_type": "code",
   "execution_count": null,
   "metadata": {},
   "outputs": [],
   "source": [
    "# Votre réponse ici"
   ]
  },
  {
   "cell_type": "markdown",
   "metadata": {},
   "source": [
    "***"
   ]
  },
  {
   "cell_type": "markdown",
   "metadata": {
    "deletable": false,
    "editable": false,
    "run_control": {
     "frozen": true
    }
   },
   "source": [
    "## Exercice 7 : Représentation de fonctions mathématiques en deux dimensions"
   ]
  },
  {
   "cell_type": "markdown",
   "metadata": {},
   "source": [
    "Nous avons découvert que `matplotlib` permet de représenter très facilement des fonctions mathématiques. Cette approche numérique a toutefois ses limites et c'est ce que l'on se propose d'explorer dans cet exercice. Plus précisément,\n",
    "\n",
    "1. à l'aide d'une représentation graphique, essayez de déterminer la (ou les) solution(s) de l'équation suivante : <br><br>\n",
    "$$\n",
    "\\frac{1+\\sin{(2x)}}{1+\\cos{(x)}^2} - \\cot{(x)} = 1\\,,~~x\\in\\mathcal{R}\\,.\n",
    "$$<br>\n",
    "2. en faisant varier les intervalles analysés, étudiez le comportement de la fonction \n",
    "$$\n",
    "f(x) = \\cos{\\left(\\frac{1}{x}\\right)}\\,,~~x\\in\\mathcal{R}\\,,\n",
    "$$\n",
    "au voisinage de $x=0$."
   ]
  },
  {
   "cell_type": "code",
   "execution_count": null,
   "metadata": {},
   "outputs": [],
   "source": [
    "# 1.\n"
   ]
  },
  {
   "cell_type": "code",
   "execution_count": null,
   "metadata": {},
   "outputs": [],
   "source": [
    "# 2.\n"
   ]
  },
  {
   "cell_type": "markdown",
   "metadata": {},
   "source": [
    "***"
   ]
  },
  {
   "cell_type": "markdown",
   "metadata": {
    "deletable": false,
    "editable": false,
    "run_control": {
     "frozen": true
    }
   },
   "source": [
    "## Exercice 7 : Graphique"
   ]
  },
  {
   "cell_type": "markdown",
   "metadata": {},
   "source": [
    "<font color=greblueen> Chaque semaine, je vous propose un exercice sans corrigé détaillé mais en vous indiquant la réponse finale. Ce sera donc à vous de faire l'effort de résoudre ce problème à l'aide des ressources à disposition : vos notes de cours, les forums sur internet ou même ChatGPT du moment que vous faites l'effort de comprendre le code que vous fournit ce Chatbot! </font>"
   ]
  },
  {
   "attachments": {
    "Monexemple.png": {
     "image/png": "[encoded data removed]"
    }
   },
   "cell_type": "markdown",
   "metadata": {},
   "source": [
    "Reproduisez la figure suivante qui représente les fonctions $\\sin{x}$, $\\cos{x}$ et $\\sin{x}^2 + \\cos{x}^2$, où $x\\in(-2\\pi, 2\\pi)$ avec un pas valant $\\text{dx}=\\frac{2\\pi}{100}$. De plus, on aimerait reporter le segment $[0, \\sin{x}]$ sur l'intervalle $[-\\pi, 0]$ avec un pas de $0.1$. Le graphe doit avoir une faille de 8\"x4\".\n",
    "\n",
    "![Monexemple.png](attachment:Monexemple.png)"
   ]
  },
  {
   "cell_type": "code",
   "execution_count": null,
   "metadata": {},
   "outputs": [],
   "source": [
    "# Votre réponse ici"
   ]
  }
 ],
 "metadata": {
  "celltoolbar": "Format de la Cellule Texte Brut",
  "kernelspec": {
   "display_name": "base",
   "language": "python",
   "name": "python3"
  },
  "language_info": {
   "codemirror_mode": {
    "name": "ipython",
    "version": 3
   },
   "file_extension": ".py",
   "mimetype": "text/x-python",
   "name": "python",
   "nbconvert_exporter": "python",
   "pygments_lexer": "ipython3",
   "version": "3.11.9"
  },
  "latex_envs": {
   "LaTeX_envs_menu_present": true,
   "autoclose": false,
   "autocomplete": true,
   "bibliofile": "biblio.bib",
   "cite_by": "apalike",
   "current_citInitial": 1,
   "eqLabelWithNumbers": true,
   "eqNumInitial": 1,
   "hotkeys": {
    "equation": "Ctrl-E",
    "itemize": "Ctrl-I"
   },
   "labels_anchors": false,
   "latex_user_defs": false,
   "report_style_numbering": false,
   "user_envs_cfg": false
  }
 },
 "nbformat": 4,
 "nbformat_minor": 4
}
