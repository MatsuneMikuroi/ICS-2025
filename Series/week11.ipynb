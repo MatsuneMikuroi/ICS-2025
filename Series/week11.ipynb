{
 "cells": [
  {
   "cell_type": "markdown",
   "metadata": {
    "deletable": false,
    "editable": false,
    "run_control": {
     "frozen": true
    }
   },
   "source": [
    "\n",
    "# ICS - Travaux Pratiques 11\n",
    "\n",
    "15.05.25\n",
    "\n",
    "\n",
    "<font color=grey>_Ce 11e TP se concentre sur la méthode de Newton ainsi que sur les méthodes de point fixe._ \n",
    "\n",
    "_Note : ne vous sentez pas obligé.e.s de finir la série pendant la séance! Celle-ci est conçue de manière à ce que vous gardiez certains exercices pour vos révisions._ </font>"
   ]
  },
  {
   "cell_type": "markdown",
   "metadata": {},
   "source": [
    "***"
   ]
  },
  {
   "cell_type": "code",
   "execution_count": 1,
   "metadata": {},
   "outputs": [],
   "source": [
    "import numpy as np\n",
    "import matplotlib.pyplot as plt\n",
    "import plotly.express as px\n",
    "import pandas as pd\n",
    "from collections.abc import Callable"
   ]
  },
  {
   "cell_type": "markdown",
   "metadata": {},
   "source": [
    "## Exercice 1 : Newton"
   ]
  },
  {
   "cell_type": "markdown",
   "metadata": {},
   "source": [
    "Dans cet exercice, il vous est proposé de déterminer numériquement les zéros de la fonction \n",
    "$f(x)=(x+1)^2\\left(x-\\frac{3}{2}\\right)$. \n",
    "\n",
    "Pour ce faire, implémentez la **méthode de Newton** présentée en cours en définissant une fonction `resoudre_par_Newton`$\\dots$\n",
    "* $\\dots$ dont les arguments sont la fonction `f` étudiée, le point de départ `x_0` de la méthode, la fonction dérivée `fprime`, la tolérance `eps` et le nombre maximum d'itérations autorisées `k_max` ;\n",
    "* $\\dots$ qui calcule par itérations une approximation d'un zéro de $f$ ;\n",
    "* $\\dots$ qui s'arrête :\n",
    "    - soit quand la valeur absolue de $f(x_k)$ est inférieure à la tolérance ; \n",
    "    - soit quand le nombre maximum d'itérations est atteint ; \n",
    "    - si la valeur de la dérivée utilisée à chaque itération est inférieure à `1e-10` pour éviter tout problème de divergence dans la formule utilisée ;\n",
    "* $\\dots$ qui retourne une valeur approchée d'un zéro de $f$, ainsi qu'une liste de tuples, ces tuples contenant les couples $(x_k,f(x_k))$ utilisés à chaque itération $k$. \n",
    "\n",
    "Testez votre implémentation en recherchant les deux zéros de la fonction $f$ avec une tolérance de $10^{-8}$. Expérimentez l'efficacité de la méthode selon le point de départ $x_0$ choisi et selon la nature du zéro considéré. Constatez-vous des différences notables ? Si oui, essayez d'en expliquer la raison, notamment en vous basant sur le graphe de cette fonction.\n",
    "\n",
    "Représentez graphiquement la différence\n",
    "$$\n",
    "x_{k} - x_{k-1}\n",
    "$$\n",
    "en fonction des itérations. Quelles conclusions peut-on tirer de la comparaison de cette différence à la dernière itération avec la tolérance (sur $f(x_k)$) que nous avons considérée ?"
   ]
  },
  {
   "cell_type": "code",
   "execution_count": 18,
   "metadata": {},
   "outputs": [
    {
     "data": {
      "text/plain": [
       "<matplotlib.lines.Line2D at 0x1f3a5aaa490>"
      ]
     },
     "execution_count": 18,
     "metadata": {},
     "output_type": "execute_result"
    },
    {
     "data": {
      "image/png": "[encoded data removed]",
      "text/plain": [
       "<Figure size 640x480 with 1 Axes>"
      ]
     },
     "metadata": {},
     "output_type": "display_data"
    }
   ],
   "source": [
    "# Commencez par représenter graphiquement la fonction !\n",
    "f = lambda x: (x+1)**2 * (x - 3/2)\n",
    "dif = lambda f, x: (f(x + 1e-5) - f(x - 1e-5)) / (2 * 1e-5)\n",
    "x = np.linspace(-2, 3, 100)\n",
    "y = f(x)\n",
    "plt.plot(x, y)\n",
    "plt.grid()\n",
    "plt.axhline(0, color='black', lw=0.5)\n",
    "plt.axvline(0, color='black', lw=0.5)"
   ]
  },
  {
   "cell_type": "code",
   "execution_count": 35,
   "metadata": {},
   "outputs": [],
   "source": [
    "# Implémentation de la méthode de Newton\n",
    "def newton(f: Callable, x0: float, fprime: Callable=dif, eps: float=1e-5, kmax: int=100) -> (float, list[tuple]):\n",
    "    \"\"\"\n",
    "    Méthode de Newton\n",
    "    :param f: fonction dont on cherche la racine\n",
    "    :param df: dérivée de la fonction\n",
    "    :param x0: point de départ\n",
    "    :param eps: précision\n",
    "    :param kmax: nombre maximum d'itérations\n",
    "    :return: racine trouvée\n",
    "    \"\"\"\n",
    "    steps = []\n",
    "    for k in range(kmax):\n",
    "        if fprime is None:\n",
    "            fprime = np.gradient(f)\n",
    "        if fprime(f, x0) == 0:\n",
    "            raise ValueError(\"La dérivée est nulle, la méthode de Newton ne peut pas être appliquée.\")\n",
    "        steps.append((x0, f(x0)))\n",
    "        x1 = x0 - f(x0) / fprime(f, x0)\n",
    "        if abs(x1 - x0) < eps:\n",
    "            return x1, steps\n",
    "        x0 = x1\n",
    "    raise ValueError(\"La méthode de Newton n'a pas convergé après {} itérations.\".format(kmax))"
   ]
  },
  {
   "cell_type": "code",
   "execution_count": 36,
   "metadata": {},
   "outputs": [
    {
     "name": "stdout",
     "output_type": "stream",
     "text": [
      "(-0.9999931629559531, [(0, -1.5), (-0.7500000000367201, -0.1406249999609849), (-0.8823529412055103, -0.032973743114593786), (-0.9426656738895619, -0.00802959154903264), (-0.9716732705695599, -0.0019832795308858116), (-0.9859182630026894, -0.0004929459496537268), (-0.9929791300113464, -0.00012288546144983452), (-0.9964945151297494, -3.067798355386298e-05), (-0.9982484890073892, -7.664103623857182e-06), (-0.9991245516155236, -1.9153537324198922e-06), (-0.9995623524990365, -4.787545127883134e-07), (-0.9997811954180871, -1.196781372984817e-07), (-0.999890602507219, -2.991821931838515e-08), (-0.9999453024604703, -7.479388431267164e-09), (-0.9999726515394276, -1.8698252842387766e-09), (-0.9999863258545092, -4.67453080436709e-10)])\n"
     ]
    }
   ],
   "source": [
    "# recherche du premier zéro de la fonction f\n",
    "print(newton(f, 0))"
   ]
  },
  {
   "cell_type": "code",
   "execution_count": 37,
   "metadata": {},
   "outputs": [
    {
     "name": "stdout",
     "output_type": "stream",
     "text": [
      "(1.5, [(2, 4.5), (1.62500000000662, 0.8613281250499606), (1.510869565220794, 0.06852680408180042), (1.5000933009892887, 0.0005831747092397338), (1.5000000069632822, 4.352051382424381e-08)])\n"
     ]
    }
   ],
   "source": [
    "# recherche du second zéro de la fonction f\n",
    "print(newton(f, 2))"
   ]
  },
  {
   "cell_type": "code",
   "execution_count": null,
   "metadata": {},
   "outputs": [],
   "source": [
    "# Représentation de la convergence et de la différence x_k - x_{k-1}\n",
    "def newton_plot(f: Callable, x0: float, fprime: Callable=dif, eps: float=1e-5, kmax: int=100) -> pd.DataFrame:\n",
    "    \"\"\"\n",
    "    Méthode de Newton avec traçage\n",
    "    :param f: fonction dont on cherche la racine\n",
    "    :param df: dérivée de la fonction\n",
    "    :param x0: point de départ\n",
    "    :param eps: précision\n",
    "    :param kmax: nombre maximum d'itérations\n",
    "    :return: DataFrame avec les itérations et les valeurs de x\n",
    "    \"\"\"\n",
    "    data = []\n",
    "    for k in range(kmax):\n",
    "        if fprime is None:\n",
    "            fprime = np.gradient(f)\n",
    "        if fprime(f, x0) == 0:\n",
    "            raise ValueError(\"La dérivée est nulle, la méthode de Newton ne peut pas être appliquée.\")\n",
    "        x1 = x0 - f(x0) / fprime(f, x0)\n",
    "        data.append((k, x1))\n",
    "        if abs(x1 - x0) < eps:\n",
    "            break\n",
    "        x0 = x1\n",
    "    \n"
   ]
  },
  {
   "cell_type": "markdown",
   "metadata": {},
   "source": [
    "***"
   ]
  },
  {
   "cell_type": "markdown",
   "metadata": {},
   "source": [
    "## Exercice 2 : k-contraction"
   ]
  },
  {
   "cell_type": "markdown",
   "metadata": {},
   "source": [
    "Les fonctions de $\\mathbb{R}$ dans $\\mathbb{R}$, $\\displaystyle f(x)=\\frac{\\cos{(x)}+x}{4}$ et $\\displaystyle g(x)=\\frac{\\cos{(x)}+x^2}{4}$ sont-elles **$K$-contractantes** sur tout intervalle $I$ contenu dans $\\mathbb{R}$?\n",
    "\n",
    "En cas de réponse négative, essayez de trouver un intervalle autour de l'origine dans lequel la fonction est $K$-contractante."
   ]
  },
  {
   "cell_type": "code",
   "execution_count": null,
   "metadata": {},
   "outputs": [],
   "source": [
    "# Représentation graphique des fonctions\n",
    "f = lambda x: (np.cos(x) + x)/4\n",
    "g = lambda x: (np.cos(x) + x**2)/4\n",
    "\n",
    "X = np.linspace(-100, 100, 1000)\n"
   ]
  },
  {
   "cell_type": "markdown",
   "metadata": {},
   "source": [
    "***"
   ]
  },
  {
   "cell_type": "markdown",
   "metadata": {},
   "source": [
    "## Exercice 3 : Points fixes"
   ]
  },
  {
   "cell_type": "markdown",
   "metadata": {},
   "source": [
    "Dans cet exercice, il vous est demandé d'étudier les quatre fonctions suivantes :\n",
    "$$\n",
    "f(x) = 1-\\sin{(x)}\\,,~~~~\n",
    "g(x) = \\exp{(-4x)}\\,,~~~~\n",
    "h(x) = 0.4 \\exp{(x)}-0.25\\,~~~~\\hbox{et}~~~~\n",
    "i(x) = \\displaystyle\\frac{1}{1+\\left(\\frac{1-x}{x}\\right)^2}\\,,\n",
    "$$\n",
    "sur l'intervalle ouvert $I=\\,]0,1[$.\n",
    "\n",
    "Pour chacune de ces fonctions, vous devez en particulier $\\dots$\n",
    "- $\\dots$ vérifier graphiquement l'existence d'un **unique point fixe** sur $I$ (en représentant la **fonction \"identité\"** $y(x)=x$) ;\n",
    "- $\\dots$ choisir deux valeurs différentes pour le point de départ $x_0$ et d'effectuer un certain nombre d'**itérations de la méthode de Picard** (en les représentant graphiquement sur la même figure) ;\n",
    "- $\\dots$ déterminer la nature du point fixe (**répulsif** ou **attracteur**) ;\n",
    "- $\\dots$ expliquer vos observations en vous intéressant au **comportement de la dérivée** et à sa valeur aux alentours du point fixe."
   ]
  },
  {
   "cell_type": "code",
   "execution_count": 43,
   "metadata": {},
   "outputs": [
    {
     "data": {
      "image/png": "[encoded data removed]",
      "text/plain": [
       "<Figure size 640x480 with 1 Axes>"
      ]
     },
     "metadata": {},
     "output_type": "display_data"
    }
   ],
   "source": [
    "# Représentation graphique de l'existence d'un point fixe\n",
    "f = lambda x: 1 - np.sin(x)\n",
    "g = lambda x: np.exp(-4*x)\n",
    "h = lambda x: 0.4 * np.exp(x) - 0.25\n",
    "i = lambda x: 1/(1 + ((1-x)/x)**2)\n",
    "y = lambda x: x\n",
    "\n",
    "X = np.linspace(-0.1, 1, 1000)\n",
    "plt.plot(X, f(X), label='f(x)')\n",
    "plt.plot(X, g(X), label='g(x)')\n",
    "plt.plot(X, h(X), label='h(x)')\n",
    "plt.plot(X, i(X), label='i(x)')\n",
    "plt.plot(X, y(X), label='y(x)')\n",
    "plt.axhline(0, color='black', lw=0.5)\n",
    "plt.axvline(0, color='black', lw=0.5)\n",
    "plt.axis('scaled')\n",
    "plt.grid()\n",
    "plt.legend()\n",
    "plt.show()\n"
   ]
  },
  {
   "cell_type": "markdown",
   "metadata": {},
   "source": [
    "On remarque que $f, g, h$ sont des bonnes fonctions auxiliaires, mais pas $i$."
   ]
  },
  {
   "cell_type": "code",
   "execution_count": null,
   "metadata": {},
   "outputs": [],
   "source": [
    "# Représentation graphique (ou sur papier) de la méthode de Picard\n",
    "# appliquée aux fonctions présentées.\n"
   ]
  },
  {
   "cell_type": "markdown",
   "metadata": {},
   "source": [
    "***"
   ]
  },
  {
   "cell_type": "markdown",
   "metadata": {},
   "source": [
    "## Exercice 4 : Fonction d'itération"
   ]
  },
  {
   "cell_type": "markdown",
   "metadata": {},
   "source": [
    "Soit $f(x)$ une fonction dont on cherche les zéros. Laquelle des fonctions $\\Phi(x)$ suivantes est-elle, a priori, acceptable comme fonction d’itération ? Justifiez votre réponse.  <br/><br/>\n",
    "&nbsp;   a) $\\Phi(x) = f(x)/x$   <br/><br/>\n",
    "&nbsp;   b) $\\Phi(x) = (x + 1)f(x)$  <br/><br/>\n",
    "&nbsp;   c) $\\Phi(x) = 5f(x) + x^2 + x$   <br/><br/>\n",
    "&nbsp;   d) $\\Phi(x) = (x + 1) [f (x) + 1]$   <br/><br/>\n",
    "&nbsp;   e) $\\Phi(x) = (x + 1)f(x) + x$  "
   ]
  },
  {
   "cell_type": "markdown",
   "metadata": {},
   "source": [
    "***"
   ]
  },
  {
   "cell_type": "markdown",
   "metadata": {},
   "source": [
    "## Exercice 5 : Méthode de Picard"
   ]
  },
  {
   "cell_type": "markdown",
   "metadata": {},
   "source": [
    "Reprenons les fonctions de l'exercice 2\n",
    "\n",
    "$$\n",
    "\\displaystyle f(x)=\\frac{\\cos{(x)}+x}{4}~~~\\hbox{et}~~~\n",
    "\\displaystyle g(x)=\\frac{\\cos{(x)}+x^2}{4}.\n",
    "$$\n",
    "\n",
    "Nous avons montré (n'est-ce pas) qu'elles sont $K$-contractantes sur $\\mathbb{R}$ dans le cas de $f(x)$ et sur, par exemple, \n",
    "$I_\\pi=\\displaystyle\\left]-\\frac{\\pi}{2},\\frac{\\pi}{2}\\right[$ dans le cas de $g(x)$.\n",
    "\n",
    "Dans cet exercice, il vous est demandé de :\n",
    "\n",
    "a) vérifier que la fonction $f$ admet un unique point fixe et que la suite $\\{x_k\\}$ obtenue par la méthode de Picard converge vers ce point fixe quel que soit le point de départ $x_0$ de la méthode :\n",
    "   * représentez graphiquement la fonction $f$ ;\n",
    "   * vérifiez \"visuellement\" l'existence d'un unique point fixe ;\n",
    "   * trouvez une valeur approchée à 5 décimales de ce point fixe grâce à la méthode de Picard, en testant votre implémentation avec différentes valeurs de départ $x_0$.\n",
    "\n",
    "b) vérifier de manière analogue le théorème du point fixe du cours dans le cas particulier de la fonction $g$ sur $I_\\pi$. Ce théorème s'applique-t-il dans le cas de cette fonction sur l'intervalle $\\displaystyle\\left]-\\frac{\\pi}{2},0\\right[$ ?"
   ]
  },
  {
   "cell_type": "code",
   "execution_count": null,
   "metadata": {},
   "outputs": [],
   "source": [
    "# a)\n"
   ]
  },
  {
   "cell_type": "code",
   "execution_count": 14,
   "metadata": {},
   "outputs": [],
   "source": [
    "# b)\n"
   ]
  }
 ],
 "metadata": {
  "celltoolbar": "Format de la Cellule Texte Brut",
  "kernelspec": {
   "display_name": "Python 3",
   "language": "python",
   "name": "python3"
  },
  "language_info": {
   "codemirror_mode": {
    "name": "ipython",
    "version": 3
   },
   "file_extension": ".py",
   "mimetype": "text/x-python",
   "name": "python",
   "nbconvert_exporter": "python",
   "pygments_lexer": "ipython3",
   "version": "3.13.2"
  },
  "latex_envs": {
   "LaTeX_envs_menu_present": true,
   "autoclose": false,
   "autocomplete": true,
   "bibliofile": "biblio.bib",
   "cite_by": "apalike",
   "current_citInitial": 1,
   "eqLabelWithNumbers": true,
   "eqNumInitial": 1,
   "hotkeys": {
    "equation": "Ctrl-E",
    "itemize": "Ctrl-I"
   },
   "labels_anchors": false,
   "latex_user_defs": false,
   "report_style_numbering": false,
   "user_envs_cfg": false
  }
 },
 "nbformat": 4,
 "nbformat_minor": 4
}
