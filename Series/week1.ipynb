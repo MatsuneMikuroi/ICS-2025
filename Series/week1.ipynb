{
 "cells": [
  {
   "cell_type": "markdown",
   "id": "080b5f8c",
   "metadata": {},
   "source": [
    "# ICS - Travaux Pratiques 1, Corrigé\n",
    "26.02.25\n",
    "\n",
    "\n",
    "<font color=grey>_Le but de ce premier travail pratique est de se familiariser avec l'environnement Python au travers de petits exercices d'affichage, et de gestions de variables. Vous serez ainsi en mesure d'écrire vos premiers petits programmes en Python !_\n",
    "\n",
    "_Ce TP est formé d'exercices pratiques dans lesquels vous devrez écrire du code, et prédire ce que des instructions affichent. Pour cette dernière partie, il est important que vous fassiez l'effort de réfléchir au problème avant d'exécuter la cellule pour vérifier votre résultat. Finalement, certains éléments de <font color=pink>théorie </font> complétant le cours seront présentés pendant la série._\n",
    "\n",
    "\n",
    "\n",
    "_Note : ne vous sentez pas obligé.e.s de finir la série pendant la séance! Celle-ci est conçue de manière à ce que vous gardiez certains exercices pour vos révisions._ </font>\n"
   ]
  },
  {
   "cell_type": "markdown",
   "id": "7e6ecf6c",
   "metadata": {},
   "source": [
    "***\n",
    "***"
   ]
  },
  {
   "cell_type": "markdown",
   "id": "404e365c",
   "metadata": {
    "user_expressions": []
   },
   "source": [
    "## Exercice 1 : la fonction `print()`\n"
   ]
  },
  {
   "cell_type": "markdown",
   "id": "3f4924a5",
   "metadata": {},
   "source": [
    "### Affichage, caractères d'échappement\n"
   ]
  },
  {
   "cell_type": "markdown",
   "id": "f672d1bc",
   "metadata": {},
   "source": [
    "**a)** Ecrivez, à l'aide de la fonction `print()`, un code qui produit l'affichage ci-dessous (les espaces au début de la deuxième et troisième ligne correspondent à un et deux tabs respectivement):<br/><br/>\n",
    "\n",
    "\n",
    "Comme j'étais parti\n",
    "\n",
    "&nbsp;&nbsp;&nbsp;&nbsp;&nbsp;&nbsp;Le petit prince a dit:\n",
    "    \n",
    "&nbsp;&nbsp;&nbsp;&nbsp;&nbsp;&nbsp;&nbsp;&nbsp;&nbsp;&nbsp;\"puisque c'est ainsi, nous reviendrons mardi\""
   ]
  },
  {
   "cell_type": "code",
   "execution_count": 1,
   "id": "120aa0e7",
   "metadata": {
    "tags": []
   },
   "outputs": [
    {
     "name": "stdout",
     "output_type": "stream",
     "text": [
      "Comme j'étais parti\n",
      "\tLe petit prince a dit:\n",
      "\t\t\"puisque c'est ainsi, nous reviendrons mardi\"\n"
     ]
    }
   ],
   "source": [
    "print(\"Comme j'étais parti\\n\\tLe petit prince a dit:\\n\\t\\t\\\"puisque c'est ainsi, nous reviendrons mardi\\\"\")"
   ]
  },
  {
   "attachments": {
    "6629dac0-b084-46de-9344-2d8a065f22e4.png": {
     "image/png": "[encoded data removed]"
    }
   },
   "cell_type": "markdown",
   "id": "a2628211",
   "metadata": {
    "user_expressions": []
   },
   "source": [
    "**b)** Même question pour le \"shrug emoji\" ci-dessous:<br/><br/>\n",
    "\n",
    "![image.png](attachment:6629dac0-b084-46de-9344-2d8a065f22e4.png)\n",
    "\n",
    "(vous pouvez copier-coller les caractères qu'il vous faut:  ¯   ツ  )"
   ]
  },
  {
   "cell_type": "code",
   "execution_count": 1,
   "id": "e78afcf0",
   "metadata": {
    "tags": []
   },
   "outputs": [
    {
     "name": "stdout",
     "output_type": "stream",
     "text": [
      "¯\\_(ツ)_/¯\n"
     ]
    }
   ],
   "source": [
    "print(\"¯\\\\_(ツ)_/¯\")"
   ]
  },
  {
   "cell_type": "markdown",
   "id": "6f551114",
   "metadata": {
    "user_expressions": []
   },
   "source": [
    "**c)** Même question pour les quatre lignes ci-dessous:<br/><br/><br/><br/>\n",
    "\n",
    "Si votre phrase est entourée par des doubles quotes \", elle peut contenir des simples quotes: ' .\n",
    "\n",
    "Par contre, pour afficher une double quote, il faudra la précéder d'un backslash: \\\\\" .\n",
    "\n",
    "De même, si la phrase est entourée par de simple quotes, elle peut contenir des double quotes, \n",
    "\n",
    "mais pour afficher une simple quote il faudra la précéder d'un backslash: \\\\' . "
   ]
  },
  {
   "cell_type": "code",
   "execution_count": 3,
   "id": "e645db4a",
   "metadata": {},
   "outputs": [
    {
     "name": "stdout",
     "output_type": "stream",
     "text": [
      "Si votre phrase est entourée par des doubles \", elle peut contenir des simples quotes '.\n",
      "Par contre, pour afficher une double quote, il faudra la précéder d'une backslash \\\".\n",
      "De même, si la phrse est entourée par de simple quotes, elle peut contenir des doubles quotes,\n",
      "mais pour afficher une simple quote il faudra la précéder d'une backslash: \\'.\n"
     ]
    }
   ],
   "source": [
    "print(\"Si votre phrase est entourée par des doubles \\\", elle peut contenir des simples quotes \\'.\\nPar contre, pour afficher une double quote, il faudra la précéder d'une backslash \\\\\\\".\\nDe même, si la phrse est entourée par de simple quotes, elle peut contenir des doubles quotes,\\nmais pour afficher une simple quote il faudra la précéder d'une backslash: \\\\\\'.\")"
   ]
  },
  {
   "cell_type": "markdown",
   "id": "31284f8c",
   "metadata": {},
   "source": [
    "### <font color=pink>Théorie : Paramètres `end` et `sep` \n",
    "\n",
    "Par défaut, la fonction `print()` termine l'affichage par un retour de ligne, et, si elle prend plusieurs arguments, sépare ces arguments par des espaces. On peut modifier ces paramètres par défaut en ajoutant à l'appel de `print()` les arguments `end = ...` et `sep = ...`.</font>"
   ]
  },
  {
   "cell_type": "markdown",
   "id": "a5e3ea36",
   "metadata": {
    "user_expressions": []
   },
   "source": [
    "**d)** Utilisez des instructions `print()` qui peuvent prendre en entrée uniquement les strings \"a\", \"b\", \"c\" et \"d\" (avec les valeurs appropriées des paramètres end et sep), pour afficher les lignes suivantes:\n",
    "\n",
    "a!b?c?d!\n",
    "\n",
    "ab!c!d?\n",
    "\n",
    "a??b?c!\n",
    "\n",
    "abcde"
   ]
  },
  {
   "cell_type": "code",
   "execution_count": 4,
   "id": "da8cfbbf",
   "metadata": {},
   "outputs": [
    {
     "name": "stdout",
     "output_type": "stream",
     "text": [
      "a!b?c?d!"
     ]
    }
   ],
   "source": [
    "print(\"a\", end=\"!\"); print(\"b\", \"c\", \"d\", sep=\"?\", end=\"!\")"
   ]
  },
  {
   "cell_type": "code",
   "execution_count": 5,
   "id": "1427fb88",
   "metadata": {},
   "outputs": [
    {
     "name": "stdout",
     "output_type": "stream",
     "text": [
      "ab?c?d!"
     ]
    }
   ],
   "source": [
    "print(\"ab\", \"c\", \"d\", sep=\"?\", end=\"!\")"
   ]
  },
  {
   "cell_type": "code",
   "execution_count": 6,
   "id": "d8dba906",
   "metadata": {},
   "outputs": [
    {
     "name": "stdout",
     "output_type": "stream",
     "text": [
      "a??b?c!"
     ]
    }
   ],
   "source": [
    "print(\"a\", \"\", \"b\", \"c\", sep=\"?\", end=\"!\")"
   ]
  },
  {
   "cell_type": "code",
   "execution_count": 7,
   "id": "b1154a5e",
   "metadata": {},
   "outputs": [
    {
     "name": "stdout",
     "output_type": "stream",
     "text": [
      "abcde"
     ]
    }
   ],
   "source": [
    "print(\"abcd\", end=\"e\")"
   ]
  },
  {
   "cell_type": "markdown",
   "id": "8fb04fd6",
   "metadata": {},
   "source": [
    "***"
   ]
  },
  {
   "cell_type": "markdown",
   "id": "2269f3cd",
   "metadata": {
    "user_expressions": []
   },
   "source": [
    "## Exercice 2 : variables, affectations\n",
    "\n",
    "Les solutions sont obtenues en exécutant directement les cellules de code dans l'énoncé.\n"
   ]
  },
  {
   "cell_type": "markdown",
   "id": "8c3116e2",
   "metadata": {},
   "source": [
    "**a)** Qu'affiche chacun des programmes ci-dessous?\n",
    "\n",
    "<font color=grey>**NB:** dans ce cours, vous aurez souvent des exercices de ce type. Lorsqu'on vous demande ce qu'un programme affiche, il ne faut surtout pas exécuter le programme tout de suite. Essayez de prédire exactement la sortie du programme. Si ce que vous voyez à l'exécution diffère de ce que vous avez prédit, essayez de comprendre exactement pourquoi. N'hésitez pas à modifier le programme de diverses manières pour voir comment change son fonctionnement. N'hésitez pas non plus à générer des erreurs, exprès ou pas, c'est une excellente manière d'apprendre.</font>"
   ]
  },
  {
   "cell_type": "code",
   "execution_count": 8,
   "id": "4bc76f52",
   "metadata": {},
   "outputs": [
    {
     "name": "stdout",
     "output_type": "stream",
     "text": [
      "x = 2, y = 1\n"
     ]
    }
   ],
   "source": [
    "x = 1\n",
    "y = x\n",
    "x += 1\n",
    "print(f\"{x = }, {y = }\")"
   ]
  },
  {
   "cell_type": "code",
   "execution_count": 9,
   "id": "375f2960",
   "metadata": {},
   "outputs": [
    {
     "name": "stdout",
     "output_type": "stream",
     "text": [
      "ha haha\n"
     ]
    }
   ],
   "source": [
    "a = \"ha\"\n",
    "b = a * 2\n",
    "print(a, b)"
   ]
  },
  {
   "cell_type": "code",
   "execution_count": 10,
   "id": "6949b400",
   "metadata": {},
   "outputs": [
    {
     "name": "stdout",
     "output_type": "stream",
     "text": [
      "123123 123\n"
     ]
    }
   ],
   "source": [
    "a = \"123\"\n",
    "b = a\n",
    "a *= 2\n",
    "print(a, b)"
   ]
  },
  {
   "cell_type": "code",
   "execution_count": 11,
   "id": "33944c22",
   "metadata": {},
   "outputs": [
    {
     "name": "stdout",
     "output_type": "stream",
     "text": [
      "abc1abc1\n"
     ]
    }
   ],
   "source": [
    "x = \"abc\"\n",
    "x += str(1)\n",
    "x *= 2\n",
    "print(x)"
   ]
  },
  {
   "cell_type": "code",
   "execution_count": 12,
   "id": "a507d143",
   "metadata": {},
   "outputs": [
    {
     "name": "stdout",
     "output_type": "stream",
     "text": [
      "-24.0\n"
     ]
    }
   ],
   "source": [
    "x = 5\n",
    "x += 3\n",
    "x /= 2\n",
    "x -= 10\n",
    "x *= 4\n",
    "print(x)"
   ]
  },
  {
   "cell_type": "code",
   "execution_count": 13,
   "id": "fd8e877e",
   "metadata": {},
   "outputs": [
    {
     "name": "stdout",
     "output_type": "stream",
     "text": [
      "1\n",
      "*************\n",
      "1\n"
     ]
    }
   ],
   "source": [
    "x = 5\n",
    "x = x // 3\n",
    "print(x)\n",
    "print(\"*************\")\n",
    "x = 5\n",
    "x //= 3\n",
    "print(x)"
   ]
  },
  {
   "cell_type": "code",
   "execution_count": 14,
   "id": "c9659284",
   "metadata": {},
   "outputs": [
    {
     "name": "stdout",
     "output_type": "stream",
     "text": [
      "2\n",
      "*************\n",
      "2\n"
     ]
    }
   ],
   "source": [
    "x = 5\n",
    "x = x % 3\n",
    "print(x)\n",
    "print(\"*************\")\n",
    "x = 5\n",
    "x %= 3\n",
    "print(x)"
   ]
  },
  {
   "cell_type": "code",
   "execution_count": 15,
   "id": "9c84c821",
   "metadata": {},
   "outputs": [
    {
     "name": "stdout",
     "output_type": "stream",
     "text": [
      "ababab aaa bbb\n",
      "abababaaabbb\n"
     ]
    }
   ],
   "source": [
    "x = \"a\"\n",
    "y = \"b\"\n",
    "z = x + y\n",
    "print(z * 3, x * 3, y * 3)\n",
    "print(z * 3 + x * 3 + y * 3)"
   ]
  },
  {
   "cell_type": "code",
   "execution_count": 16,
   "id": "1e6d8186",
   "metadata": {},
   "outputs": [
    {
     "name": "stdout",
     "output_type": "stream",
     "text": [
      "Bravo!\n"
     ]
    }
   ],
   "source": [
    "x = \"Courage\"\n",
    "y = \"Pour vos\"\n",
    "z = \"Belles études !\"\n",
    "print(z[0],y[3],x[4],y[5],x[1],z[-1],sep='')"
   ]
  },
  {
   "cell_type": "markdown",
   "id": "9124e7f9",
   "metadata": {},
   "source": [
    "**b)** encore des affectations de variables\n",
    "### <font color=pink>Théorie : Affectation multiple \n",
    "\n",
    "On peut affecter deux valeurs à deux variables en même temps, ou n valeurs à n variables en général:</font>"
   ]
  },
  {
   "cell_type": "code",
   "execution_count": 17,
   "id": "d2554461",
   "metadata": {},
   "outputs": [
    {
     "name": "stdout",
     "output_type": "stream",
     "text": [
      "x = 1, y = 2\n",
      "x = 'a', y = 'b', z = 'c'\n"
     ]
    }
   ],
   "source": [
    "x, y = 1, 2\n",
    "print(f\"{x = }, {y = }\")\n",
    "x, y, z = \"a\", \"b\", \"c\"\n",
    "print(f\"{x = }, {y = }, {z = }\")"
   ]
  },
  {
   "cell_type": "markdown",
   "id": "4bebd7c0",
   "metadata": {},
   "source": [
    "Attention, le nombre de variables à gauche doit être égal au nombre d'expressions à droite. Ecrivez et exécutez une ligne de code qui affecte trois valeurs à deux variables et observez ce qui se produit."
   ]
  },
  {
   "cell_type": "code",
   "execution_count": 18,
   "id": "95e4a210",
   "metadata": {},
   "outputs": [
    {
     "ename": "ValueError",
     "evalue": "too many values to unpack (expected 2)",
     "output_type": "error",
     "traceback": [
      "\u001b[1;31m---------------------------------------------------------------------------\u001b[0m",
      "\u001b[1;31mValueError\u001b[0m                                Traceback (most recent call last)",
      "Cell \u001b[1;32mIn[18], line 1\u001b[0m\n\u001b[1;32m----> 1\u001b[0m x, y \u001b[38;5;241m=\u001b[39m \u001b[38;5;241m1\u001b[39m, \u001b[38;5;241m2\u001b[39m, \u001b[38;5;241m3\u001b[39m;\n\u001b[0;32m      3\u001b[0m \u001b[38;5;28mprint\u001b[39m(\u001b[38;5;124mf\u001b[39m\u001b[38;5;124m\"\u001b[39m\u001b[38;5;132;01m{\u001b[39;00mx\u001b[38;5;250m \u001b[39m\u001b[38;5;132;01m= }\u001b[39;00m\u001b[38;5;124m, \u001b[39m\u001b[38;5;132;01m{\u001b[39;00my\u001b[38;5;250m \u001b[39m\u001b[38;5;132;01m= }\u001b[39;00m\u001b[38;5;124m\"\u001b[39m)\n",
      "\u001b[1;31mValueError\u001b[0m: too many values to unpack (expected 2)"
     ]
    }
   ],
   "source": [
    "x, y = 1, 2, 3;\n",
    "\n",
    "print(f\"{x = }, {y = }\")"
   ]
  },
  {
   "cell_type": "markdown",
   "id": "874b68e8",
   "metadata": {},
   "source": [
    "Comme dans n'importe quelle affectation de variables, les expressions dans une affectation mutiple peuvent faire intervenir des variables à leur tour."
   ]
  },
  {
   "cell_type": "code",
   "execution_count": 19,
   "id": "8c10844a",
   "metadata": {},
   "outputs": [
    {
     "name": "stdout",
     "output_type": "stream",
     "text": [
      "4 aaa\n"
     ]
    }
   ],
   "source": [
    "x = 3\n",
    "y, z = x + 1, \"aaa\"\n",
    "print(y, z)"
   ]
  },
  {
   "cell_type": "markdown",
   "id": "865a6afb",
   "metadata": {},
   "source": [
    "Une affectation multiple se fait **simultanément**. Dans le programme ci-dessous, y prend \"l'ancienne\" valeur de x même si x a été réaffectée dans l'affectation multiple."
   ]
  },
  {
   "cell_type": "code",
   "execution_count": 20,
   "id": "9b36702c",
   "metadata": {},
   "outputs": [
    {
     "name": "stdout",
     "output_type": "stream",
     "text": [
      "9 7\n"
     ]
    }
   ],
   "source": [
    "x = 7\n",
    "x, y = 9, x\n",
    "print(x, y)"
   ]
  },
  {
   "cell_type": "markdown",
   "id": "1abacb80",
   "metadata": {},
   "source": [
    "Qu'affichent les programmes ci-dessous?"
   ]
  },
  {
   "cell_type": "code",
   "execution_count": 21,
   "id": "1531452e",
   "metadata": {},
   "outputs": [
    {
     "name": "stdout",
     "output_type": "stream",
     "text": [
      "8\n",
      "9\n"
     ]
    }
   ],
   "source": [
    "x, y = 2, 3\n",
    "print(x ** y)\n",
    "print(y ** x)"
   ]
  },
  {
   "cell_type": "code",
   "execution_count": 22,
   "id": "4a7aa378",
   "metadata": {},
   "outputs": [
    {
     "name": "stdout",
     "output_type": "stream",
     "text": [
      "6 33 x\n"
     ]
    }
   ],
   "source": [
    "x = 3\n",
    "a, b, c = x * 2, str(x) * 2, \"x\"\n",
    "print(a, b, c)"
   ]
  },
  {
   "cell_type": "code",
   "execution_count": 23,
   "id": "b63b4a81",
   "metadata": {},
   "outputs": [
    {
     "name": "stdout",
     "output_type": "stream",
     "text": [
      "16 27\n"
     ]
    }
   ],
   "source": [
    "x, y = 3, 4\n",
    "y, x = x ** x, y * y\n",
    "print(x, y)"
   ]
  },
  {
   "cell_type": "markdown",
   "id": "c6165d65",
   "metadata": {},
   "source": [
    "**c)** Petite remarque sur la précision des `float`. Qu'affichent ces codes?"
   ]
  },
  {
   "cell_type": "code",
   "execution_count": 24,
   "id": "fa0ddf16",
   "metadata": {},
   "outputs": [
    {
     "name": "stdout",
     "output_type": "stream",
     "text": [
      "0.0\n"
     ]
    }
   ],
   "source": [
    "x = 0.2 + 0.2\n",
    "y = 0.4\n",
    "print(x-y)"
   ]
  },
  {
   "cell_type": "code",
   "execution_count": 25,
   "id": "e4228900",
   "metadata": {},
   "outputs": [
    {
     "name": "stdout",
     "output_type": "stream",
     "text": [
      "5.551115123125783e-17\n"
     ]
    }
   ],
   "source": [
    "x = 0.1 + 0.1 + 0.1\n",
    "y = 0.3\n",
    "print(x-y)"
   ]
  },
  {
   "cell_type": "markdown",
   "id": "cd4ce0ce",
   "metadata": {},
   "source": [
    "<font color=pink>Un nombre réel, que l'on exprime traditionnellement dans une base décimale, est assimilé à un objet de type `float`. Celui-ci est représenté en mémoire dans une base binaire, en terme de sommes de puissances de 2. Par exemple, $0.75 = \\frac{1}{2} + \\frac{1}{2^2}$.\n",
    "\n",
    "Or il se peut que quelques nombres, bien qu'ils aient une représentation décimale finie, aient besoin d'une représentation binaire infinie. Par exemple, $0.751 = 0\\cdot 10^0 + 7\\cdot 10^{-1}+ 5\\cdot 10^{-2} + 1\\cdot 10^{-3}$, mais encore $0.751 = 0\\cdot 2^{0} + 1 \\cdot 2^{-1} + 1\\cdot 2^{-2}+ ... + 1\\cdot 2^{-10}+ ...$\n",
    "\n",
    "Comme il n'est pas possible de le représenter en mémoire par un nombre infini de bits, il en résulte une erreur de précision telle que mise en avant dans l'exemple précédent. Il est important de garder ce comportement en tête, notamment lors de la comparaison de deux ou plusieurs valeurs.\n",
    "\n",
    "Vous trouverez plus d'informations ici : [https://www.h-schmidt.net/FloatConverter/IEEE754.html](https://www.h-schmidt.net/FloatConverter/IEEE754.html)\n",
    "\n"
   ]
  },
  {
   "cell_type": "markdown",
   "id": "4486cf32",
   "metadata": {},
   "source": [
    "***"
   ]
  },
  {
   "cell_type": "markdown",
   "id": "47929be7",
   "metadata": {},
   "source": [
    "## Exercice 3 : slicing"
   ]
  },
  {
   "cell_type": "markdown",
   "id": "9ce59f56",
   "metadata": {},
   "source": [
    "**a)** On considère la chaîne de caractères `s1 = \"123456789\"`. En utilisant la fonction `print()` ainsi que les propriétés du slicing, n'affichez que les chiffres pairs de ce `string`."
   ]
  },
  {
   "cell_type": "code",
   "execution_count": 27,
   "id": "8b39265a",
   "metadata": {},
   "outputs": [
    {
     "name": "stdout",
     "output_type": "stream",
     "text": [
      "2468\n"
     ]
    }
   ],
   "source": [
    "s1 = \"123456789\";\n",
    "s2 = \"\"\n",
    "for i in range(len(s1)):\n",
    "    if i % 2 == 1:\n",
    "        s2 = s2 + s1[i];\n",
    "print(s2)"
   ]
  },
  {
   "cell_type": "markdown",
   "id": "42ce0c6d",
   "metadata": {},
   "source": [
    "\n",
    "**b)** Que vaut `s1[1] + s1[2]`?\n"
   ]
  },
  {
   "cell_type": "code",
   "execution_count": null,
   "id": "f8f27294",
   "metadata": {},
   "outputs": [],
   "source": [
    "print(s1[1] + s1[3])"
   ]
  },
  {
   "cell_type": "markdown",
   "id": "31f68ecc",
   "metadata": {},
   "source": [
    "\n",
    "**c)** En partant de `s2 = \"Vive Python\"`, n'affichez que le premier mot, ou que le dernier. \n"
   ]
  },
  {
   "cell_type": "code",
   "execution_count": 29,
   "id": "05778121",
   "metadata": {},
   "outputs": [
    {
     "name": "stdout",
     "output_type": "stream",
     "text": [
      "Vive\n",
      "Python\n"
     ]
    }
   ],
   "source": [
    "s2 = \"Vive Python\";\n",
    "print(s2[:4])\n",
    "print(s2[5:])"
   ]
  },
  {
   "cell_type": "markdown",
   "id": "9c6a2e6b",
   "metadata": {},
   "source": [
    "\n",
    "**d)** En partant de `s2`, réécrivez ce `string` à l'envers et assignez le à une nouvelle variable en une seule ligne de code."
   ]
  },
  {
   "cell_type": "code",
   "execution_count": 35,
   "id": "8ce9ce7f",
   "metadata": {},
   "outputs": [
    {
     "name": "stdout",
     "output_type": "stream",
     "text": [
      "nohtyP eviV\n"
     ]
    }
   ],
   "source": [
    "s2 = \"Vive Python\";\n",
    "s3 = \"\".join(f\"{s2[i]}\" for i in range(len(s2)-1, -1, -1));\n",
    "print(s3);\n"
   ]
  },
  {
   "cell_type": "markdown",
   "id": "553c25ef",
   "metadata": {},
   "source": [
    "***"
   ]
  },
  {
   "cell_type": "markdown",
   "id": "f31e3ada",
   "metadata": {},
   "source": [
    "## Exercice 4"
   ]
  },
  {
   "cell_type": "markdown",
   "id": "fb6e04fd",
   "metadata": {},
   "source": [
    "### <font color = grey> Rappel: division euclidienne\n",
    "\n",
    "Pour des entiers $n\\geq 0$ et $d > 0$, il existe d'uniques entiers naturels $q$ et $r$, avec $0 \\leq r < d$, tels que\n",
    "\n",
    "$$n = q \\cdot d + r.$$\n",
    "\n",
    "$q$ est le quotient et $r$ le reste de la division euclidienne de $n$ par $d$.\n",
    "\n",
    "Par exemple,\n",
    "- comme $13 = 3 \\times 4 + 1$, le quotient et le reste de la division euclidienne de $13$ par $3$ sont respectivement $4$ et $1$...\n",
    "- ... et le quotient et le reste de la division euclidienne de $13$ par $4$ sont respectivement $3$ et $1$.\n",
    "- comme $29 = 2 \\times 10 + 9$, le quotient et le reste de la division euclidienne de $29$ par $10$ sont respectivement $2$ et $9$. \n",
    "- par contre l'égalité ci-dessus n'implique pas que le quotient et le reste de la division euclidienne de $29$ par $2$ sont respectivement $10$ et $9$! N'oubliez pas que le reste de la division entière doit être strictement inférieur au diviseur. Quels sont le quotient et le reste de la division entière de $29$ par $2$?\n",
    "\n",
    "En Python, l'opérateur // donne le quotient de la division entière, et % le reste de la division entière: </font>"
   ]
  },
  {
   "cell_type": "code",
   "execution_count": 36,
   "id": "bf5a6260",
   "metadata": {},
   "outputs": [
    {
     "name": "stdout",
     "output_type": "stream",
     "text": [
      "le quotient de la division entière de 13 par 4 est 3 et le reste est 1\n",
      "le quotient de la division entière de 13 par 3 est 4 et le reste est 1\n",
      "le quotient de la division entière de 29 par 10 est 2 et le reste est 9\n",
      "le quotient de la division entière de 29 par 2 est 14 et le reste est 1\n"
     ]
    }
   ],
   "source": [
    "print(\"le quotient de la division entière de 13 par 4 est\", 13 // 4, \"et le reste est\", 13 % 4)\n",
    "print(\"le quotient de la division entière de 13 par 3 est\", 13 // 3, \"et le reste est\", 13 % 3)\n",
    "print(\"le quotient de la division entière de 29 par 10 est\", 29 // 10, \"et le reste est\", 29 % 10)\n",
    "print(\"le quotient de la division entière de 29 par 2 est\", 29 // 2, \"et le reste est\", 29 % 2)"
   ]
  },
  {
   "cell_type": "markdown",
   "id": "0a665c68",
   "metadata": {},
   "source": [
    "<font color = grey>A savoir que les opérateurs `//` et `%` sont définis également pour des entiers négatifs ou même des float, mais ces cas présentent moins d'intérêt mathématique.\n",
    "<br/><br/><br/><br/></font>"
   ]
  },
  {
   "cell_type": "markdown",
   "id": "1fdc2fbc",
   "metadata": {},
   "source": [
    "**a)** Pour les paires (n, d) suivantes, calculez le quotient q et le reste r de la division euclidienne de n par d. Vérifiez vos résultats à l'aide des opérateurs Python `//` et `%`.\n",
    "- n = 129, d = 41\n",
    "- n = 33, d = 7\n",
    "- n = 7, d = 33\n",
    "- n = 13, d = 13\n"
   ]
  },
  {
   "cell_type": "code",
   "execution_count": null,
   "id": "eab70e6f",
   "metadata": {},
   "outputs": [],
   "source": []
  },
  {
   "cell_type": "markdown",
   "id": "051c3e99",
   "metadata": {},
   "source": [
    "**b)** Ecrivez un programme qui demande à l'utilisateur deux nombres entiers $n$ et $d$ et affiche l'équation\n",
    "$n = d \\cdot q + r$, où $q$ et $r$ sont le quotient et le reste de la division de $n$ par $d$.\n",
    "\n",
    "Par exemple, si l'utilisateur entre $11$ pour $n$ et $4$ pour $d$, vous devez afficher:\n",
    "\n",
    "$11 = 4 * 2 + 3$.\n",
    "\n",
    "Utilisez un `f-string` pour l'affichage."
   ]
  },
  {
   "cell_type": "code",
   "execution_count": 37,
   "id": "f5f6ab08",
   "metadata": {},
   "outputs": [
    {
     "ename": "TypeError",
     "evalue": "unsupported operand type(s) for //: 'str' and 'str'",
     "output_type": "error",
     "traceback": [
      "\u001b[1;31m---------------------------------------------------------------------------\u001b[0m",
      "\u001b[1;31mTypeError\u001b[0m                                 Traceback (most recent call last)",
      "Cell \u001b[1;32mIn[37], line 3\u001b[0m\n\u001b[0;32m      1\u001b[0m n \u001b[38;5;241m=\u001b[39m \u001b[38;5;28minput\u001b[39m(\u001b[38;5;124m\"\u001b[39m\u001b[38;5;124mEnter ur numb\u001b[39m\u001b[38;5;124m\"\u001b[39m);\n\u001b[0;32m      2\u001b[0m d \u001b[38;5;241m=\u001b[39m \u001b[38;5;28minput\u001b[39m(\u001b[38;5;124m\"\u001b[39m\u001b[38;5;124mAgain\u001b[39m\u001b[38;5;124m\"\u001b[39m);\n\u001b[1;32m----> 3\u001b[0m \u001b[38;5;28mprint\u001b[39m(\u001b[38;5;124mf\u001b[39m\u001b[38;5;124m\"\u001b[39m\u001b[38;5;132;01m{\u001b[39;00mn\u001b[38;5;132;01m}\u001b[39;00m\u001b[38;5;124m=\u001b[39m\u001b[38;5;132;01m{\u001b[39;00md\u001b[38;5;132;01m}\u001b[39;00m\u001b[38;5;124m*\u001b[39m\u001b[38;5;132;01m{\u001b[39;00mn\u001b[38;5;241m/\u001b[39m\u001b[38;5;241m/\u001b[39md\u001b[38;5;132;01m}\u001b[39;00m\u001b[38;5;124m+\u001b[39m\u001b[38;5;132;01m{\u001b[39;00mn\u001b[38;5;241m%\u001b[39md\u001b[38;5;132;01m}\u001b[39;00m\u001b[38;5;124m\"\u001b[39m)\n",
      "\u001b[1;31mTypeError\u001b[0m: unsupported operand type(s) for //: 'str' and 'str'"
     ]
    }
   ],
   "source": [
    "n = input(\"Enter ur numb\");\n",
    "d = input(\"Again\");\n",
    "print(f\"{n}={d}*{n//d}+{n%d}\");"
   ]
  },
  {
   "cell_type": "markdown",
   "id": "bf80afa7",
   "metadata": {},
   "source": [
    "***"
   ]
  },
  {
   "cell_type": "markdown",
   "id": "3c865eeb",
   "metadata": {},
   "source": [
    "## Exercice 5"
   ]
  },
  {
   "cell_type": "markdown",
   "id": "8dc34ae8",
   "metadata": {},
   "source": [
    "\n",
    "Ecrivez un programme qui demande à l'utilisateur une valeur positive réelle r et calcule et affiche le périmètre et l'aire du cercle de rayon r.\n",
    "\n",
    "Utilisez un `f-string` pour l'affichage."
   ]
  },
  {
   "cell_type": "code",
   "execution_count": 40,
   "id": "afbf452a",
   "metadata": {},
   "outputs": [
    {
     "name": "stdout",
     "output_type": "stream",
     "text": [
      "p: r * ma.pi * 2 = 6.283185307179586\n",
      "a: r ** 2 * ma.pi = 3.141592653589793\n"
     ]
    }
   ],
   "source": [
    "import math as ma;\n",
    "r = 1;\n",
    "print(f\"p: {r * ma.pi * 2 = }\\na: {r ** 2 * ma.pi = }\")"
   ]
  },
  {
   "cell_type": "markdown",
   "id": "9c58a90e",
   "metadata": {},
   "source": [
    "***"
   ]
  },
  {
   "cell_type": "markdown",
   "id": "457d1d44",
   "metadata": {},
   "source": [
    "## Exercice 6 : sans corrigé"
   ]
  },
  {
   "cell_type": "markdown",
   "id": "e816b264",
   "metadata": {},
   "source": [
    "<font color=greblueen> Chaque semaine, je vous propose un exercice sans corrigé détaillé mais en vous indiquant la réponse finale. Ce sera donc à vous de faire l'effort de résoudre ce problème à l'aide des ressources à disposition : vos notes de cours, les forums sur internet ou même ChatGPT du moment que vous faites l'effort de comprendre le code que vous fournit ce Chatbot! </font>"
   ]
  },
  {
   "cell_type": "markdown",
   "id": "1c54ae65",
   "metadata": {},
   "source": [
    "On considère la fonction $f(x) = a\\cdot x^{15}+b\\cdot x + \\dfrac{c}{\\sqrt{x-1}}+ d$."
   ]
  },
  {
   "cell_type": "markdown",
   "id": "b4dd7665",
   "metadata": {},
   "source": [
    "**a)** Ecrivez un programme permettant d'évaluer cette fonction en $x=2$, avec comme paramètres $a=3$, $b=0.1$, $c=2$ et $d=1$. Donnez une valeur à des variables pour définir les différents paramètres, et passez par la fonction `input` pour choisir le point où la fonction est évaluée. \n",
    "\n",
    "Utilisez un `f-print` pour afficher le résultat sous cette forme :\n",
    "\n",
    "`La fonction f(x) évaluée en x=2 pour a=3, b=0.1, c=2 et d=1 vaut 98307.2` \n",
    "\n"
   ]
  },
  {
   "cell_type": "code",
   "execution_count": 41,
   "id": "0219978b",
   "metadata": {},
   "outputs": [
    {
     "data": {
      "text/plain": [
       "98307.2"
      ]
     },
     "execution_count": 41,
     "metadata": {},
     "output_type": "execute_result"
    }
   ],
   "source": [
    "import math as ma;\n",
    "\n",
    "def f(x:float, a: float = 3, b: float = 0.1, c: float = 2, d: float = 1) -> float:\n",
    "    return a * x ** 15 + b * x + c/ma.sqrt(x - 1) + d;\n",
    "\n",
    "f(2)"
   ]
  },
  {
   "cell_type": "markdown",
   "id": "e9e7bd65",
   "metadata": {},
   "source": [
    "\n",
    "**b)** Que renvoie l'exécution de ce programme si $x=1$? Pourquoi? Nous verrons par la suite comment passer outre ce genre de situation."
   ]
  },
  {
   "cell_type": "code",
   "execution_count": 42,
   "id": "4896b373",
   "metadata": {},
   "outputs": [
    {
     "ename": "ZeroDivisionError",
     "evalue": "float division by zero",
     "output_type": "error",
     "traceback": [
      "\u001b[1;31m---------------------------------------------------------------------------\u001b[0m",
      "\u001b[1;31mZeroDivisionError\u001b[0m                         Traceback (most recent call last)",
      "Cell \u001b[1;32mIn[42], line 1\u001b[0m\n\u001b[1;32m----> 1\u001b[0m f(\u001b[38;5;241m1\u001b[39m)\n",
      "Cell \u001b[1;32mIn[41], line 4\u001b[0m, in \u001b[0;36mf\u001b[1;34m(x, a, b, c, d)\u001b[0m\n\u001b[0;32m      3\u001b[0m \u001b[38;5;28;01mdef\u001b[39;00m \u001b[38;5;21mf\u001b[39m(x:\u001b[38;5;28mfloat\u001b[39m, a: \u001b[38;5;28mfloat\u001b[39m \u001b[38;5;241m=\u001b[39m \u001b[38;5;241m3\u001b[39m, b: \u001b[38;5;28mfloat\u001b[39m \u001b[38;5;241m=\u001b[39m \u001b[38;5;241m0.1\u001b[39m, c: \u001b[38;5;28mfloat\u001b[39m \u001b[38;5;241m=\u001b[39m \u001b[38;5;241m2\u001b[39m, d: \u001b[38;5;28mfloat\u001b[39m \u001b[38;5;241m=\u001b[39m \u001b[38;5;241m1\u001b[39m) \u001b[38;5;241m-\u001b[39m\u001b[38;5;241m>\u001b[39m \u001b[38;5;28mfloat\u001b[39m:\n\u001b[1;32m----> 4\u001b[0m     \u001b[38;5;28;01mreturn\u001b[39;00m a \u001b[38;5;241m*\u001b[39m x \u001b[38;5;241m*\u001b[39m\u001b[38;5;241m*\u001b[39m \u001b[38;5;241m15\u001b[39m \u001b[38;5;241m+\u001b[39m b \u001b[38;5;241m*\u001b[39m x \u001b[38;5;241m+\u001b[39m c\u001b[38;5;241m/\u001b[39mma\u001b[38;5;241m.\u001b[39msqrt(x \u001b[38;5;241m-\u001b[39m \u001b[38;5;241m1\u001b[39m) \u001b[38;5;241m+\u001b[39m d\n",
      "\u001b[1;31mZeroDivisionError\u001b[0m: float division by zero"
     ]
    }
   ],
   "source": [
    "f(1)"
   ]
  },
  {
   "cell_type": "code",
   "execution_count": null,
   "id": "669c73a1",
   "metadata": {},
   "outputs": [],
   "source": []
  }
 ],
 "metadata": {
  "kernelspec": {
   "display_name": "Python 3",
   "language": "python",
   "name": "python3"
  },
  "language_info": {
   "codemirror_mode": {
    "name": "ipython",
    "version": 3
   },
   "file_extension": ".py",
   "mimetype": "text/x-python",
   "name": "python",
   "nbconvert_exporter": "python",
   "pygments_lexer": "ipython3",
   "version": "3.13.0"
  }
 },
 "nbformat": 4,
 "nbformat_minor": 5
}
