{
 "cells": [
  {
   "cell_type": "markdown",
   "id": "8f0591e5",
   "metadata": {},
   "source": [
    "# Suite\n",
    "\n",
    "<span style=\"color:green\"> Schéma </span>\n",
    "\n",
    "<u>Remarque</u>\n",
    "\n",
    "Nous avons approché $J_{i} (f) = \\frac{x_{i+1} - x_{i}}{2} \\int g_{i}(t) \\mathrm{d} t$. L'approximation de $I = \\int_{a}^{b} f(x) \\mathrm{d} x$ est donnée par\n",
    "$$J(f) = \\sum_{i=0}^{N-1} J_{i}(f)$$\n",
    "où $J_{i}(f)$ est la formule de quadrature utilisée pour le $i^{\\text{ème}}$ intervalle. Pour une partition régulière, $x_{i+1} - x_{i} = h = \\frac{b-a}{N}$\n",
    "\n",
    "\n",
    "<u>Théorème</u>\n",
    "\n",
    "Supposons $J(f)$ définie précédemment exacte pour les poylnômes de degré $r$. Alors l'erreur absolue sur l'estimation de l'intégrale vérifie la propriété suivante:\n",
    "$$e_{\\text{abs}} = \\left\\| \\int_{a}^{b} f(x) \\mathrm{d} x - J(f) \\right\\| \\leq C \\cdot h^{r+1}$$\n",
    "où $C$ est une constante indépendante de $h$. On étudie souvent l'évolution de l'erreur en fonction de la finesse de la partition.\n",
    "\n",
    "\n",
    "Par exemple:\n",
    "\n",
    "si $h^{\\prime} = \\frac{h}{2}$, \n",
    "Avec la méthode de Simpson:\n",
    "$$\\left( e_{\\text{\\tiny{abs}}}^{\\text{\\tiny{S}}} \\right) = C \\cdot \\left( h^{\\prime} \\right)^{r+1} = C \\left( \\frac{h}{2} \\right)^{r+1} = C \\left( \\frac{h}{2} \\right)^{4} = \\frac{C}{16} h^{4} = \\frac{1}{16} \\cdot e_{\\text{\\tiny{abs}}}^{\\text{\\tiny{S}}}$$\n",
    "Avec la méthode du m^point milieu:\n",
    "$$\\left( e_{\\text{\\tiny{abs}}}^{\\text{\\tiny{PM}}} \\right) = C \\cdot \\left( h^{\\prime} \\right)^{r+1} = C \\left( \\frac{h}{2} \\right)^{r+1} = \\frac{C}{4} \\cdot h^{2} = \\frac{1}{4} e_{\\text{\\tiny{abs}}}^{\\text{\\tiny{PM}}}$$"
   ]
  },
  {
   "cell_type": "code",
   "execution_count": null,
   "id": "415c4d85",
   "metadata": {
    "vscode": {
     "languageId": "plaintext"
    }
   },
   "outputs": [],
   "source": [
    "# visualisation\n"
   ]
  },
  {
   "cell_type": "markdown",
   "id": "96c965fd",
   "metadata": {},
   "source": [
    "En passant en échelle logarithmique, on obtient:"
   ]
  },
  {
   "cell_type": "code",
   "execution_count": null,
   "id": "77024237",
   "metadata": {
    "vscode": {
     "languageId": "plaintext"
    }
   },
   "outputs": [],
   "source": [
    "# loglog"
   ]
  },
  {
   "cell_type": "markdown",
   "id": "0629cc5a",
   "metadata": {},
   "source": [
    "on voit ressortir des droites, on peut donc les réécrires comme:\n",
    "$$\\begin{aligned}\n",
    "    \\log(\\text{erreur}) &= \\text{pente} \\cdot \\log(\\text{pas})\\\\\n",
    "    \\log(\\text{erreur}) &= \\log\\left( \\text{pas}^{\\text{pente}} \\right)\\\\\n",
    "    \\text{erreur} &= \\text{pas}^{\\text{pente}}\n",
    "\\end{aligned}$$"
   ]
  },
  {
   "cell_type": "markdown",
   "id": "47b9bfc3",
   "metadata": {},
   "source": [
    "# Récapitulatif du chapitre\n",
    "Nous avons étudié trois formules de quadrature basées sur $M$ noeuds ($M \\leq 3$), et étudié leur exactitude:\n",
    "\n",
    "1. Point milieu ($M = 1, t_{1} = 0$), on arrive à\n",
    "$$J_{i}^{\\text{\\tiny{PM}}}(f) = (x_{i+1} - x_{i}) \\cdot f \\left( \\frac{x_{i+1} - x_{i}}{2} \\right)$$\n",
    "Cette formule est exacte pour tous les polynômes de degré $r \\leq 1$.\n",
    "\n",
    "2. Trapèze ($M = 2, t_{1} = -1, t_{2} = +1$), on arrive à\n",
    "$$J_{i}^{\\text{\\tiny{T}}}(f) = (x_{i+1} - x_{i}) \\cdot \\frac{f(x_{i}) + f(x_{i+1})}{2}$$\n",
    "Cette formule est exacte pour tous les polynômes de degré $r \\leq 1$.\n",
    "\n",
    "3. Simpsons ($M = 3, t_{1} = -1, t_{2} = 0, t_{3} = +1$), on arrive à\n",
    "$$J_{i}^{\\text{\\tiny{S}}}(f) = \\frac{x_{i+1} - x_{i}}{6} \\cdot \\left( f(x_{i}) + 4 \\cdot f \\left( \\frac{x_{i} + x_{i+1}}{2} \\right) + f(x_{i+1}) \\right)$$\n",
    "Cette formule est exacte pour tous les polynômes de degré $r \\leq 3$."
   ]
  },
  {
   "cell_type": "markdown",
   "id": "9ea9a9e7",
   "metadata": {},
   "source": []
  }
 ],
 "metadata": {
  "language_info": {
   "name": "python"
  }
 },
 "nbformat": 4,
 "nbformat_minor": 5
}
