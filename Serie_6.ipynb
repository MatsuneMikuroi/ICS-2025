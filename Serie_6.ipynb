{
 "cells": [
  {
   "cell_type": "markdown",
   "id": "121c2091",
   "metadata": {},
   "source": [
    "# ICS - Travaux Pratiques 6\n",
    "\n",
    "02.05.25\n",
    "\n",
    "\n",
    "\n",
    "<font color=grey>_Dans la première partie de ce TP, vous travaillerez les exceptions en Python. La deuxième partie contient quelques exercices qui revoient certaines notions des cours passés._ \n",
    "\n",
    "_Note : ne vous sentez pas obligé.e.s de finir la série pendant la séance! Celle-ci est conçue de manière à ce que vous gardiez certains exercices pour vos révisions._ </font>"
   ]
  },
  {
   "cell_type": "markdown",
   "id": "60b35a66",
   "metadata": {},
   "source": [
    "***"
   ]
  },
  {
   "cell_type": "markdown",
   "id": "24279acd",
   "metadata": {},
   "source": [
    "## Exercice 1 : Qu'affiche ce code?\n",
    "\n"
   ]
  },
  {
   "cell_type": "code",
   "execution_count": null,
   "id": "dd9a26f9",
   "metadata": {},
   "outputs": [],
   "source": [
    "nb = 'deux'\n",
    "nb = int(nb)"
   ]
  },
  {
   "cell_type": "code",
   "execution_count": null,
   "id": "6682bdd0",
   "metadata": {},
   "outputs": [],
   "source": [
    "nb = 'deux'\n",
    "try: # type: ignore\n",
    "    nb = int(nb)\n"
   ]
  },
  {
   "cell_type": "code",
   "execution_count": null,
   "id": "e91360af",
   "metadata": {},
   "outputs": [],
   "source": [
    "nombres = [\"deux\", 2]\n",
    "for i in range(len(nombres)):  \n",
    "    try:\n",
    "        print(\"On essaie\")\n",
    "        nb = int(nombres[i])\n",
    "    except:\n",
    "        print(\"Une exception a été soulevée\")\n",
    "        nombres[i] = 5\n",
    "        print(f\"Le nombre initial a été remplacé par {nombres[i]}\")\n",
    "    print(f\"Le nombre vaut {nombres[i]}\\n\")"
   ]
  },
  {
   "cell_type": "code",
   "execution_count": null,
   "id": "9fb7ef88",
   "metadata": {},
   "outputs": [],
   "source": [
    "nombres = [\"deux\", 2]\n",
    "for i in range(len(nombres)): \n",
    "    try:\n",
    "        print(f\"On examine le {i+1}e nombre :\")\n",
    "        nb = int(nombres[i])\n",
    "    except ValueError:\n",
    "        print(\"Une exception a été soulevée\")\n",
    "        nombres[i] = 5\n",
    "        print(f\"Le nombre initial a été remplacé par {nombres[i]}\")\n",
    "    finally:\n",
    "        print(\"1er bloc finally toujours exécuté\")\n",
    "        print(f\"Le nombre vaut {nombres[i]}\\n\")"
   ]
  },
  {
   "cell_type": "code",
   "execution_count": null,
   "id": "455e4059",
   "metadata": {},
   "outputs": [],
   "source": [
    "nombres = [\"deux\", 2]\n",
    "for i in range(len(nombres)): \n",
    "    try:\n",
    "        print(f\"On examine le {i+1}e nombre :\")\n",
    "        nb = int(nombres[i])\n",
    "    except ValueError:\n",
    "        print(\"Une exception a été soulevée\")\n",
    "        nombres[i] = 5\n",
    "        print(f\"Le nombre initial a été remplacé par {nombres[i]}\")\n",
    "    finally:\n",
    "        print(\"1er bloc finally toujours exécuté\")\n",
    "        print(f\"Le nombre vaut {nombres[i]}\")\n",
    "        try: \n",
    "            print(\"On teste une nouvelle instruction dans le bloc finally\")\n",
    "            ratio = nombres[i]/nombres[i+1]\n",
    "        except IndexError:\n",
    "            ratio = nombres[i]/nombres[i-1]\n",
    "        finally:\n",
    "            print(\"2e bloc finally toujours exécuté\")\n",
    "            print(f\"Le rapport entre ce nombre et le nombre restant vaut {ratio}\\n\")  # type: ignore\n"
   ]
  },
  {
   "cell_type": "code",
   "execution_count": null,
   "id": "00d51a40",
   "metadata": {},
   "outputs": [],
   "source": [
    "# Décommentez la ligne qui vous intéresse\n",
    "\n",
    "#nombres = [\"deux\", 0]\n",
    "#nombres = [0,2]\n",
    "nombres = [1,2]\n",
    "\n",
    "try:\n",
    "    print(\"On essaie.\")\n",
    "    nb = int(nombres[0])\n",
    "except ValueError:\n",
    "    print(\"Une exception a été soulevée\")\n",
    "    nombres[0] = 5\n",
    "    print(f\"Le nombre initial a été remplacé par {nombres[0]}\")\n",
    "finally:\n",
    "    print(\"1er bloc finally toujours exécuté\")\n",
    "    print(f\"Le 1er nombre vaut {nombres[0]}\")\n",
    "    try: \n",
    "        print(\"On teste une nouvelle instruction dans le bloc finally\")\n",
    "        ratio = nombres[0]/nombres[1]\n",
    "    except ZeroDivisionError:\n",
    "        print(\"Attention, division par zéro !!\")\n",
    "        ratio = float('inf')\n",
    "    finally:\n",
    "        print(\"2e bloc finally toujours exécuté\")\n",
    "        print(f\"Le rapport entre le premier et le deuxième nombre vaut {ratio}\\n\")"
   ]
  },
  {
   "cell_type": "code",
   "execution_count": null,
   "id": "c936f15d",
   "metadata": {},
   "outputs": [],
   "source": [
    "# Décommentez la ligne qui vous intéresse\n",
    "\n",
    "nombres = [2, 3]\n",
    "#nombres = [3, 2]\n",
    "#nombres = [2, 0]\n",
    "\n",
    "try:\n",
    "    print(\"On veut juste tester la division des deux nombres\")\n",
    "    ratio = nombres[0]/nombres[1]\n",
    "    if ratio < 1:\n",
    "        raise Exception(\"Ratio trop petit !!\")\n",
    "except ZeroDivisionError:\n",
    "    print(\"Attention, division par zero ! Changez les nombres en input\")\n",
    "except :\n",
    "    print(\"Le rapport entre ces deux nombres est trop petit. Changez les nombres!\")\n",
    "\n"
   ]
  },
  {
   "cell_type": "markdown",
   "id": "485fa0b1",
   "metadata": {},
   "source": [
    "***"
   ]
  },
  {
   "cell_type": "markdown",
   "id": "46012825",
   "metadata": {},
   "source": [
    "## Exercice 2: vérification d'un nombre en input\n"
   ]
  },
  {
   "cell_type": "markdown",
   "id": "c22964c6",
   "metadata": {},
   "source": [
    "Jusqu'à présent, on a beaucoup utilisé la fonction `input()` pour demander un nombre à un utilisateur. Cependant, nous n'avions aucun moyen de vérifier si cette valeur d'entrée correspondait bien à un entier, à un float ou même à un string. Nous possédons désormais les outils pour ce faire.\n",
    "\n",
    "**a)** Avec un try-except, implémentez un programme vérifiant si un nombre rentré par l'utilisateur est un entier en affichant dans chaque cas si le nombre est entier ou pas.\n"
   ]
  },
  {
   "cell_type": "code",
   "execution_count": null,
   "id": "cbd9ba16",
   "metadata": {},
   "outputs": [],
   "source": [
    "# Réponse au point a)\n"
   ]
  },
  {
   "cell_type": "markdown",
   "id": "44f115cb",
   "metadata": {},
   "source": [
    "\n",
    "**b)** Améliorez ce programme de manière à ce qu'il continue à demander un nombre à l'utilisateur _tant que_ celui-ci n'est pas un entier.\n",
    "\n",
    "<font color=grey> Indice : une manière de résoudre ce problème est d'utiilser un boolen qui prend une valeur différente selon si le nombre rentré par l'utilisateur est un entier ou non.</font>\n"
   ]
  },
  {
   "cell_type": "code",
   "execution_count": null,
   "id": "b4b6884e",
   "metadata": {},
   "outputs": [],
   "source": [
    "# Réponse au point b)\n"
   ]
  },
  {
   "cell_type": "markdown",
   "id": "8b5b4202",
   "metadata": {},
   "source": [
    "\n",
    "**c)** Admettons que ces entiers correspondent à des notes. Nous aimerions que l'utilisateur ne puisse pas entrer de note (entière) supérieure à 6 ni inférieure à 1. Modifiez ce programme afin de prendre cela en compte."
   ]
  },
  {
   "cell_type": "code",
   "execution_count": null,
   "id": "2cf77ac1",
   "metadata": {},
   "outputs": [],
   "source": [
    "# Réponse au point c)\n",
    "\n",
    "    "
   ]
  },
  {
   "cell_type": "markdown",
   "id": "3ab370a5",
   "metadata": {},
   "source": [
    "***"
   ]
  },
  {
   "cell_type": "markdown",
   "id": "2f943646",
   "metadata": {},
   "source": [
    "# Deuxième partie : Révision"
   ]
  },
  {
   "cell_type": "markdown",
   "id": "f1f3aa3d",
   "metadata": {},
   "source": [
    "## Exercice 3 : des boucles "
   ]
  },
  {
   "cell_type": "markdown",
   "id": "2162cf1e",
   "metadata": {},
   "source": [
    "\n",
    "Etant donnée une liste `L = ['a', 'b', 'c', 'd']`, \n",
    "\n",
    "**(a)** écrivez une boucle qui produit l'affichage\n",
    "\n",
    "`0    a`\n",
    "\n",
    "`1    b`\n",
    "\n",
    "`2    c`\n",
    "\n",
    "`3    d`\n"
   ]
  },
  {
   "cell_type": "code",
   "execution_count": null,
   "id": "dab68452",
   "metadata": {},
   "outputs": [],
   "source": [
    "L = [\"a\", \"b\", \"c\", \"d\"]"
   ]
  },
  {
   "cell_type": "code",
   "execution_count": null,
   "id": "e2702b19",
   "metadata": {},
   "outputs": [],
   "source": [
    "# a)\n"
   ]
  },
  {
   "cell_type": "markdown",
   "id": "ee075809",
   "metadata": {},
   "source": [
    "\n",
    "**(b)** écrivez une boucle qui produit l'affichage\n",
    "\n",
    "`a`\n",
    "\n",
    "`bb`\n",
    "\n",
    "`ccc`\n",
    "\n",
    "`dddd`\n"
   ]
  },
  {
   "cell_type": "code",
   "execution_count": null,
   "id": "daca5c48",
   "metadata": {},
   "outputs": [],
   "source": [
    "# b)\n"
   ]
  },
  {
   "cell_type": "markdown",
   "id": "aa6fd4c1",
   "metadata": {},
   "source": [
    "\n",
    "**(c)** écrivez des boucles imbriquées qui produisent l'affichage\n",
    "\n",
    "`aa ab ac ad`\n",
    "\n",
    "`ba bb bc bd`\n",
    "\n",
    "`ca cb cc cd`\n",
    "\n",
    "`da db dc dd`\n"
   ]
  },
  {
   "cell_type": "code",
   "execution_count": null,
   "id": "24d83291",
   "metadata": {},
   "outputs": [],
   "source": [
    "# c)\n",
    "\n"
   ]
  },
  {
   "cell_type": "markdown",
   "id": "5200ef0e",
   "metadata": {},
   "source": [
    "\n",
    "**(d)** écrivez des boucles imbriquées qui produisent l'affichage\n",
    "\n",
    "`aa`\n",
    "\n",
    "`ba bb`\n",
    "\n",
    "`ca cb cc` \n",
    "\n",
    "`da db dc dd`\n"
   ]
  },
  {
   "cell_type": "code",
   "execution_count": null,
   "id": "0fcf86c0",
   "metadata": {},
   "outputs": [],
   "source": [
    "# d)\n"
   ]
  },
  {
   "cell_type": "markdown",
   "id": "e64a89e1",
   "metadata": {},
   "source": [
    "***"
   ]
  },
  {
   "cell_type": "markdown",
   "id": "6b1fa745",
   "metadata": {},
   "source": [
    "# Exercice 4 : discrétisation d'un intervalle"
   ]
  },
  {
   "cell_type": "markdown",
   "id": "13b67067",
   "metadata": {},
   "source": [
    "\n",
    "**(a)** `list(range(N))` permet de créer une liste d'**entiers** allant de $0$ à $N$. Malheureusement, il n'existe pas d'équivalent pour les float. Implémentez une fonction `discretisation(a, b, N)` qui prend en entrée deux réels $a$ et $b$ ($a < b$) et un nombre d'éléments $N$ ($N > 2$), et qui renvoie une liste de $N$ éléments représentant des nombres entre $a$ et $b$ inclus, séparés d'une même distance. Par exemple, l'appel `discretisation(0, 0.5, 5)` doit retourner la liste `[0.0, 0.125, 0.25, 0.375, 0.5]`.\n",
    "\n",
    "Si $N$ n'est pas spécifié, il prend la valeur 10 par défaut.\n",
    "\n"
   ]
  },
  {
   "cell_type": "code",
   "execution_count": 7,
   "id": "9e7a26ff",
   "metadata": {},
   "outputs": [
    {
     "name": "stdout",
     "output_type": "stream",
     "text": [
      "[0.0, 0.125, 0.25, 0.375, 0.5]\n"
     ]
    }
   ],
   "source": [
    "# Réponse au point (a)\n",
    "def discretisation(a: float, b: float, N: int = 10) -> list[float]:\n",
    "    if N < 2:\n",
    "        raise ValueError(\"nb_value doit être supérieur ou égal à 2\")\n",
    "    if a >= b:\n",
    "        raise ValueError(\"x0 doit être inférieur à x1\")\n",
    "    return [a + i * (b - a) / (N-1) for i in range(N)]\n",
    "\n",
    "# generate doctest for the function\n",
    "def discretisation_doctest() -> None:\n",
    "    \"\"\"\n",
    "    >>> discretisation(0, 1, 5)\n",
    "    [0.0, 0.25, 0.5, 0.75, 1.0]\n",
    "    >>> discretisation(0, 1, 2)\n",
    "    [0.0, 1.0]\n",
    "    >>> discretisation(1, 2, 3)\n",
    "    [1.0, 1.5, 2.0]\n",
    "    >>> discretisation(2, 1, 3)\n",
    "    Traceback (most recent call last):\n",
    "        ...\n",
    "    ValueError: x0 doit être inférieur à x1\n",
    "    >>> discretisation(0, 1, 1)\n",
    "    Traceback (most recent call last):\n",
    "        ...\n",
    "    ValueError: nb_value doit être supérieur ou égal à 2\n",
    "    \"\"\"\n",
    "print(discretisation(0, 0.5, 5))"
   ]
  },
  {
   "cell_type": "markdown",
   "id": "83a8f33e",
   "metadata": {},
   "source": [
    " **(b)** Ecrivez une fonction `sin_cos` qui \n",
    " - prend en entrée deux réels $a$ et $b$ et un nombre d'éléments $N$\n",
    " - crée une liste `L` de $N$ nombres entre $a$ et $b$ inclus, séparés d'une même distance\n",
    " - retourne un dictionnaire dont les clés sont les éléments de `L`, interprétés comme des angles (en radians), et les valeurs sont des tuples contenant $\\sin{\\theta}$, $\\cos{\\theta}$ et $\\cos^2{\\theta} + \\sin^2{\\theta}$. \n",
    " \n",
    " Affichez `sin_cos(0, math.pi, 5))` à l'aide d'une DataFrame du module pandas."
   ]
  },
  {
   "cell_type": "code",
   "execution_count": 16,
   "id": "40dc965c",
   "metadata": {},
   "outputs": [
    {
     "name": "stdout",
     "output_type": "stream",
     "text": [
      "{0.0: (0.0, 1.0, 1.0), 0.7853981633974483: (0.7071067811865476, 0.7071067811865476, 1.0000000000000002), 1.5707963267948966: (1.0, 6.123233995736766e-17, 1.0), 2.356194490192345: (0.7071067811865476, -0.7071067811865475, 1.0), 3.141592653589793: (1.2246467991473532e-16, -1.0, 1.0)}\n",
      "                   sin           cos  cos^2 + sin^2\n",
      "0.000000  0.000000e+00  1.000000e+00            1.0\n",
      "0.785398  7.071068e-01  7.071068e-01            1.0\n",
      "1.570796  1.000000e+00  6.123234e-17            1.0\n",
      "2.356194  7.071068e-01 -7.071068e-01            1.0\n",
      "3.141593  1.224647e-16 -1.000000e+00            1.0\n"
     ]
    },
    {
     "data": {
      "application/vnd.microsoft.datawrangler.viewer.v0+json": {
       "columns": [
        {
         "name": "index",
         "rawType": "float64",
         "type": "float"
        },
        {
         "name": "sin",
         "rawType": "float64",
         "type": "float"
        },
        {
         "name": "cos",
         "rawType": "float64",
         "type": "float"
        },
        {
         "name": "cos^2 + sin^2",
         "rawType": "float64",
         "type": "float"
        }
       ],
       "conversionMethod": "pd.DataFrame",
       "ref": "ed18c1ff-1a76-47fa-b665-1d9050539676",
       "rows": [
        [
         "0.0",
         "0.0",
         "1.0",
         "1.0"
        ],
        [
         "0.7853981633974483",
         "0.7071067811865476",
         "0.7071067811865476",
         "1.0000000000000002"
        ],
        [
         "1.5707963267948966",
         "1.0",
         "6.123233995736766e-17",
         "1.0"
        ],
        [
         "2.356194490192345",
         "0.7071067811865476",
         "-0.7071067811865475",
         "1.0"
        ],
        [
         "3.141592653589793",
         "1.2246467991473532e-16",
         "-1.0",
         "1.0"
        ]
       ],
       "shape": {
        "columns": 3,
        "rows": 5
       }
      },
      "text/html": [
       "<div>\n",
       "<style scoped>\n",
       "    .dataframe tbody tr th:only-of-type {\n",
       "        vertical-align: middle;\n",
       "    }\n",
       "\n",
       "    .dataframe tbody tr th {\n",
       "        vertical-align: top;\n",
       "    }\n",
       "\n",
       "    .dataframe thead th {\n",
       "        text-align: right;\n",
       "    }\n",
       "</style>\n",
       "<table border=\"1\" class=\"dataframe\">\n",
       "  <thead>\n",
       "    <tr style=\"text-align: right;\">\n",
       "      <th></th>\n",
       "      <th>sin</th>\n",
       "      <th>cos</th>\n",
       "      <th>cos^2 + sin^2</th>\n",
       "    </tr>\n",
       "  </thead>\n",
       "  <tbody>\n",
       "    <tr>\n",
       "      <th>0.000000</th>\n",
       "      <td>0.000000e+00</td>\n",
       "      <td>1.000000e+00</td>\n",
       "      <td>1.0</td>\n",
       "    </tr>\n",
       "    <tr>\n",
       "      <th>0.785398</th>\n",
       "      <td>7.071068e-01</td>\n",
       "      <td>7.071068e-01</td>\n",
       "      <td>1.0</td>\n",
       "    </tr>\n",
       "    <tr>\n",
       "      <th>1.570796</th>\n",
       "      <td>1.000000e+00</td>\n",
       "      <td>6.123234e-17</td>\n",
       "      <td>1.0</td>\n",
       "    </tr>\n",
       "    <tr>\n",
       "      <th>2.356194</th>\n",
       "      <td>7.071068e-01</td>\n",
       "      <td>-7.071068e-01</td>\n",
       "      <td>1.0</td>\n",
       "    </tr>\n",
       "    <tr>\n",
       "      <th>3.141593</th>\n",
       "      <td>1.224647e-16</td>\n",
       "      <td>-1.000000e+00</td>\n",
       "      <td>1.0</td>\n",
       "    </tr>\n",
       "  </tbody>\n",
       "</table>\n",
       "</div>"
      ],
      "text/plain": [
       "                   sin           cos  cos^2 + sin^2\n",
       "0.000000  0.000000e+00  1.000000e+00            1.0\n",
       "0.785398  7.071068e-01  7.071068e-01            1.0\n",
       "1.570796  1.000000e+00  6.123234e-17            1.0\n",
       "2.356194  7.071068e-01 -7.071068e-01            1.0\n",
       "3.141593  1.224647e-16 -1.000000e+00            1.0"
      ]
     },
     "execution_count": 16,
     "metadata": {},
     "output_type": "execute_result"
    }
   ],
   "source": [
    "# Réponse au point (b)\n",
    "def sin_cos(a: float, b: float, N: int) -> dict[float, tuple]:\n",
    "    from math import sin, cos\n",
    "    return {i:(sin(i), cos(i), cos(i)**2 + sin(i)**2) for i in discretisation(a, b, N)}\n",
    "\n",
    "# generate doctest for the function\n",
    "def sin_cos_doctest() -> None:\n",
    "    \"\"\"\n",
    "    >>> sin_cos([0, 1, 2])\n",
    "    {0: (0.0, 1.0, 1.0), 1: (0.8414709848078965, 0.5403023058681398, 1.0), 2: (0.9092974268256817, -0.4161468365471424, 1.0)}\n",
    "    >>> sin_cos([3, 4])\n",
    "    {3: (0.1411200080515695, -0.9589242746631385, 1.0), 4: (-0.7568024953079282, -0.6536436208636119, 1.0)}\n",
    "    \"\"\"\n",
    "\n",
    "import pandas as pd\n",
    "import math\n",
    "\n",
    "print(sin_cos(0, math.pi, 5))\n",
    "print(pd.DataFrame.from_dict(sin_cos(0, math.pi, 5)).transpose().rename(columns={0: \"sin\", 1: \"cos\", 2: \"cos^2 + sin^2\"}))\n",
    "pd.DataFrame.from_dict(sin_cos(0, math.pi, 5)).transpose().rename(columns={0: \"sin\", 1: \"cos\", 2: \"cos^2 + sin^2\"})"
   ]
  },
  {
   "cell_type": "markdown",
   "id": "b6a4e36d",
   "metadata": {},
   "source": [
    "***"
   ]
  },
  {
   "cell_type": "markdown",
   "id": "5b7c9d38",
   "metadata": {},
   "source": [
    "# Exercice 5 : listes et matrices"
   ]
  },
  {
   "cell_type": "markdown",
   "id": "1521c455",
   "metadata": {},
   "source": [
    "\n",
    "**(a)** Ecrivez une fonction `matrix_extract_col` qui prend en entrée une liste de listes `L` représentant une matrice, et un indice `k`, et retourne une liste `col` contenant les éléments de la `k`-ème colonne de `L`.\n",
    "\n",
    "Par exemple, les instructions \n",
    "\n",
    "`L = [['a', 'b', 'c'], ['d', 'e', 'f']]`\n",
    "\n",
    "`print(matrix_extract_col(L, 1))`\n",
    "\n",
    "doivent afficher \n",
    "\n",
    "`['b', 'e']`\n",
    "\n",
    "Il n'y a pas besoin de vérifier que `L` correspond à une matrice bien définie: on peut supposer que `L`contient `m` éléments (correspondant aux `m` lignes de la matrice) qui sont toutes des listes de même taille `n` (correspondant aux `n` colonnes de la matrice).\n"
   ]
  },
  {
   "cell_type": "code",
   "execution_count": null,
   "id": "da648738",
   "metadata": {},
   "outputs": [],
   "source": [
    "# Réponse au point (a)\n"
   ]
  },
  {
   "cell_type": "markdown",
   "id": "a12e4846",
   "metadata": {},
   "source": [
    "\n",
    "**(b)** Etant donné une matrice $M$ à $m$ lignes et $n$ colonnes, sa **transposée** est la matrice à $n$ lignes et $m$ colonnes dont les lignes sont les colonnes de $M$  et les colonnes sont les lignes de $M$. \n",
    "\n",
    "Par exemple, la transposée de \n",
    "$\\begin{matrix}\n",
    "a&b&c\\\\\n",
    "d&e&f\\\\\n",
    "\\end{matrix}$ \n",
    " est \n",
    "$\\begin{matrix}\n",
    "a & d \\\\\n",
    "b & e \\\\\n",
    "c&f \\\\\n",
    "\\end{matrix}$.\n",
    "\n",
    "\n",
    "\n",
    "\n",
    "Ecrivez une fonction `matrix_transpose` qui prend en entrée une liste de listes `L` représentant une matrice, et retourne la matrice transposée de `L`. Par exemple, les instructions\n",
    "\n",
    "`L = [['a', 'b', 'c'], ['d', 'e', 'f']]`\n",
    "\n",
    "`print(matrix_transpose(L))`\n",
    "\n",
    "doivent afficher\n",
    "\n",
    "`[['a', 'd'], ['b', 'e'], ['c', 'f']]`\n"
   ]
  },
  {
   "cell_type": "code",
   "execution_count": null,
   "id": "579943dd",
   "metadata": {},
   "outputs": [],
   "source": [
    "# Réponse au point (b)\n",
    "\n",
    "    "
   ]
  },
  {
   "cell_type": "markdown",
   "id": "fe695453",
   "metadata": {},
   "source": [
    "***"
   ]
  },
  {
   "cell_type": "markdown",
   "id": "bd6c27bd",
   "metadata": {},
   "source": [
    "# Exercice 6 : Enigme mathématique"
   ]
  },
  {
   "cell_type": "markdown",
   "id": "839824e8",
   "metadata": {},
   "source": [
    "<font color=greblueen> Chaque semaine, je vous propose un exercice sans corrigé détaillé mais en vous indiquant la réponse finale. Ce sera donc à vous de faire l'effort de résoudre ce problème à l'aide des ressources à disposition : vos notes de cours, les forums sur internet ou même ChatGPT du moment que vous faites l'effort de comprendre le code que vous fournit ce Chatbot! </font>"
   ]
  },
  {
   "cell_type": "markdown",
   "id": "8c1eb156",
   "metadata": {},
   "source": [
    "\n",
    "On considère 100 jetons numérotés, blancs d'un côté et noirs de l'autre. Ils ont initialement tous leur face blanche visible. \n",
    "\n",
    "Pour chaque jeton, on retourne successivement tous les multiples de ce jeton:\n",
    "- pour le jeton 1, nous allons retourner les jetons 1,2,3,...,100\n",
    "- pour le jeton 2 nous allons retourner les jetons pairs\n",
    "- pour le jeton 3 nous retournerons les jetons 3,6,9,...,99 \n",
    "- ... et ainsi de suite jusqu'au jeton 100 que nous retournons tout seul.\n",
    "\n",
    "Implémentez cet algorithme dans un programme. Celui-ci doit afficher une liste contenant les numéros des jetons qui seront noirs après avoir effectué ces opérations.\n",
    "\n",
    "Que remarquez-vous? Est-ce que cette série de nombre vous est familière? Pouvez-vous expliquer ce résultat? Pour vérifier votre réponse, il y aura 10 jetons noirs entre 0 et 100 compris. \n",
    "\n",
    "Vous afficherez ensuite les résultats de chaque étapes dans un graphe grâce à matplotlib.\n"
   ]
  },
  {
   "cell_type": "code",
   "execution_count": 4,
   "id": "3d7a9ec5",
   "metadata": {},
   "outputs": [
    {
     "data": {
      "image/png": "[encoded data removed]",
      "text/plain": [
       "<Figure size 1000x1000 with 1 Axes>"
      ]
     },
     "metadata": {},
     "output_type": "display_data"
    }
   ],
   "source": [
    "# Indication : on pose 0 = blanc, 1 = noir\n",
    "import numpy as np\n",
    "import matplotlib.pyplot as plt\n",
    "\n",
    "n = 100  #  dimension de la matrice\n",
    "l = [0 for i in range(n)]\n",
    "mx = []  # [l.copy() for j in range(i, n, i + 1) for i in range(n)]  # matrice de 0\n",
    "for i in range(n):\n",
    "    for j in range(i,n, i+1):\n",
    "        l[j] = l[j] ^ 1\n",
    "    mx.append(l.copy())\n",
    "\n",
    "mx = np.array(mx).transpose()\n",
    "\n",
    "mx = np.flipud(mx)\n",
    "\n",
    "# Plot the flipped matrix\n",
    "plt.figure(figsize=(min(10*n/100,200), min(10*n/100, 200)))\n",
    "plt.imshow(mx, cmap='binary', interpolation='nearest')  # 'binary' colormap: white for 1, black for 0\n",
    "plt.title(\"Matrix Plot of mx (Lowest y-values at Bottom)\", fontsize=16)\n",
    "plt.xlabel(\"Columns\", fontsize=12)\n",
    "plt.ylabel(\"Rows\", fontsize=12)\n",
    "# Add marks at the right side of the plot\n",
    "marks = [i**2 for i in range(1, n) if i**2 <= n]\n",
    "for mark in marks:\n",
    "    plt.text(mx.shape[1] - 0.5, mx.shape[0] - mark, f'{mark}', \n",
    "             color='red', fontsize=10, va='center', ha='left')\n",
    "primes = [i for i in range(1, n) if all(i % j != 0 for j in range(2, int(i**0.5) + 1)) and i > 1]\n",
    "for prime in primes:\n",
    "    plt.text(mx.shape[1] - 0.5, mx.shape[0] - prime, f'          {prime}', \n",
    "             color='blue', fontsize=10, va='center', ha='left')\n",
    "plt.show()"
   ]
  },
  {
   "cell_type": "code",
   "execution_count": null,
   "id": "fd8ed211",
   "metadata": {},
   "outputs": [],
   "source": []
  }
 ],
 "metadata": {
  "kernelspec": {
   "display_name": "Python 3",
   "language": "python",
   "name": "python3"
  },
  "language_info": {
   "codemirror_mode": {
    "name": "ipython",
    "version": 3
   },
   "file_extension": ".py",
   "mimetype": "text/x-python",
   "name": "python",
   "nbconvert_exporter": "python",
   "pygments_lexer": "ipython3",
   "version": "3.13.2"
  }
 },
 "nbformat": 4,
 "nbformat_minor": 5
}
